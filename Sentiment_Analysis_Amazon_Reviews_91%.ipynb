{
 "cells": [
  {
   "cell_type": "code",
   "execution_count": 1,
   "id": "042f9adb",
   "metadata": {},
   "outputs": [
    {
     "name": "stdout",
     "output_type": "stream",
     "text": [
      "Defaulting to user installation because normal site-packages is not writeable\n",
      "Requirement already satisfied: spacy in /home/verpen/.local/lib/python3.8/site-packages (3.4.1)\n",
      "Requirement already satisfied: langcodes<4.0.0,>=3.2.0 in /home/verpen/.local/lib/python3.8/site-packages (from spacy) (3.3.0)\n",
      "Requirement already satisfied: catalogue<2.1.0,>=2.0.6 in /home/verpen/.local/lib/python3.8/site-packages (from spacy) (2.0.8)\n",
      "Requirement already satisfied: wasabi<1.1.0,>=0.9.1 in /home/verpen/.local/lib/python3.8/site-packages (from spacy) (0.10.1)\n",
      "Requirement already satisfied: spacy-legacy<3.1.0,>=3.0.9 in /home/verpen/.local/lib/python3.8/site-packages (from spacy) (3.0.10)\n",
      "Requirement already satisfied: srsly<3.0.0,>=2.4.3 in /home/verpen/.local/lib/python3.8/site-packages (from spacy) (2.4.4)\n",
      "Requirement already satisfied: pathy>=0.3.5 in /home/verpen/.local/lib/python3.8/site-packages (from spacy) (0.6.2)\n",
      "Requirement already satisfied: thinc<8.2.0,>=8.1.0 in /home/verpen/.local/lib/python3.8/site-packages (from spacy) (8.1.0)\n",
      "Requirement already satisfied: packaging>=20.0 in /home/verpen/.local/lib/python3.8/site-packages (from spacy) (21.3)\n",
      "Requirement already satisfied: typer<0.5.0,>=0.3.0 in /home/verpen/.local/lib/python3.8/site-packages (from spacy) (0.4.2)\n",
      "Requirement already satisfied: jinja2 in /home/verpen/.local/lib/python3.8/site-packages (from spacy) (3.1.2)\n",
      "Requirement already satisfied: requests<3.0.0,>=2.13.0 in /home/verpen/.local/lib/python3.8/site-packages (from spacy) (2.28.1)\n",
      "Requirement already satisfied: cymem<2.1.0,>=2.0.2 in /home/verpen/.local/lib/python3.8/site-packages (from spacy) (2.0.6)\n",
      "Requirement already satisfied: preshed<3.1.0,>=3.0.2 in /home/verpen/.local/lib/python3.8/site-packages (from spacy) (3.0.7)\n",
      "Requirement already satisfied: spacy-loggers<2.0.0,>=1.0.0 in /home/verpen/.local/lib/python3.8/site-packages (from spacy) (1.0.3)\n",
      "Requirement already satisfied: numpy>=1.15.0 in /home/verpen/.local/lib/python3.8/site-packages (from spacy) (1.22.3)\n",
      "Requirement already satisfied: pydantic!=1.8,!=1.8.1,<1.10.0,>=1.7.4 in /home/verpen/.local/lib/python3.8/site-packages (from spacy) (1.9.2)\n",
      "Requirement already satisfied: setuptools in /usr/lib/python3/dist-packages (from spacy) (45.2.0)\n",
      "Requirement already satisfied: murmurhash<1.1.0,>=0.28.0 in /home/verpen/.local/lib/python3.8/site-packages (from spacy) (1.0.8)\n",
      "Requirement already satisfied: tqdm<5.0.0,>=4.38.0 in /home/verpen/.local/lib/python3.8/site-packages (from spacy) (4.63.0)\n",
      "Requirement already satisfied: pyparsing!=3.0.5,>=2.0.2 in /home/verpen/.local/lib/python3.8/site-packages (from packaging>=20.0->spacy) (3.0.9)\n",
      "Requirement already satisfied: smart-open<6.0.0,>=5.2.1 in /home/verpen/.local/lib/python3.8/site-packages (from pathy>=0.3.5->spacy) (5.2.1)\n",
      "Requirement already satisfied: typing-extensions>=3.7.4.3 in /home/verpen/.local/lib/python3.8/site-packages (from pydantic!=1.8,!=1.8.1,<1.10.0,>=1.7.4->spacy) (4.3.0)\n",
      "Requirement already satisfied: urllib3<1.27,>=1.21.1 in /usr/lib/python3/dist-packages (from requests<3.0.0,>=2.13.0->spacy) (1.25.8)\n",
      "Requirement already satisfied: idna<4,>=2.5 in /usr/lib/python3/dist-packages (from requests<3.0.0,>=2.13.0->spacy) (2.8)\n",
      "Requirement already satisfied: charset-normalizer<3,>=2 in /home/verpen/.local/lib/python3.8/site-packages (from requests<3.0.0,>=2.13.0->spacy) (2.1.0)\n",
      "Requirement already satisfied: certifi>=2017.4.17 in /usr/lib/python3/dist-packages (from requests<3.0.0,>=2.13.0->spacy) (2019.11.28)\n",
      "Requirement already satisfied: blis<0.8.0,>=0.7.8 in /home/verpen/.local/lib/python3.8/site-packages (from thinc<8.2.0,>=8.1.0->spacy) (0.7.8)\n",
      "Requirement already satisfied: click<9.0.0,>=7.1.1 in /home/verpen/.local/lib/python3.8/site-packages (from typer<0.5.0,>=0.3.0->spacy) (8.1.3)\n",
      "Requirement already satisfied: MarkupSafe>=2.0 in /home/verpen/.local/lib/python3.8/site-packages (from jinja2->spacy) (2.1.1)\n"
     ]
    }
   ],
   "source": [
    "# spacy will be used for lemmatization and stop words removal it's better than nltk\n",
    "!pip install spacy"
   ]
  },
  {
   "cell_type": "code",
   "execution_count": 2,
   "id": "3946a51b",
   "metadata": {},
   "outputs": [],
   "source": [
    "# Data analysis \n",
    "import pandas as pd\n",
    "import numpy as np \n",
    "\n",
    "# Data plotting\n",
    "import matplotlib.pyplot as plt\n",
    "import seaborn as sn\n",
    "\n",
    "# Text analysis\n",
    "import re\n",
    "import spacy\n",
    "from spacy.lang.en.stop_words import STOP_WORDS\n",
    "import emoji\n",
    "import emot\n",
    "import contractions\n",
    "import string\n",
    "import nltk\n",
    "from nltk.stem import SnowballStemmer \n",
    "from nltk.tokenize import word_tokenize\n",
    "\n",
    "# Modeling\n",
    "from sklearn.feature_extraction.text import TfidfVectorizer\n",
    "from sklearn.model_selection import train_test_split, cross_val_score\n",
    "from sklearn.linear_model import LogisticRegression\n",
    "from sklearn.svm import LinearSVC\n",
    "from sklearn.tree import DecisionTreeClassifier\n",
    "from sklearn.ensemble import RandomForestClassifier\n",
    "from sklearn import naive_bayes\n",
    "from sklearn.metrics import accuracy_score, confusion_matrix, classification_report\n",
    "\n",
    "# Save model\n",
    "import joblib\n",
    "\n",
    "import time"
   ]
  },
  {
   "cell_type": "markdown",
   "id": "baba7923",
   "metadata": {},
   "source": [
    "# Loading data"
   ]
  },
  {
   "cell_type": "code",
   "execution_count": 3,
   "id": "d11079ab",
   "metadata": {},
   "outputs": [],
   "source": [
    "reviews = pd.read_csv('/home/verpen/Downloads/Datasets/Amazon_Reviews_4M/train.csv')"
   ]
  },
  {
   "cell_type": "code",
   "execution_count": 4,
   "id": "d12c0940",
   "metadata": {},
   "outputs": [
    {
     "data": {
      "text/html": [
       "<div>\n",
       "<style scoped>\n",
       "    .dataframe tbody tr th:only-of-type {\n",
       "        vertical-align: middle;\n",
       "    }\n",
       "\n",
       "    .dataframe tbody tr th {\n",
       "        vertical-align: top;\n",
       "    }\n",
       "\n",
       "    .dataframe thead th {\n",
       "        text-align: right;\n",
       "    }\n",
       "</style>\n",
       "<table border=\"1\" class=\"dataframe\">\n",
       "  <thead>\n",
       "    <tr style=\"text-align: right;\">\n",
       "      <th></th>\n",
       "      <th>Review</th>\n",
       "      <th>Label</th>\n",
       "    </tr>\n",
       "  </thead>\n",
       "  <tbody>\n",
       "    <tr>\n",
       "      <th>0</th>\n",
       "      <td>Stuning even for the non-gamer: This sound tra...</td>\n",
       "      <td>2</td>\n",
       "    </tr>\n",
       "    <tr>\n",
       "      <th>1</th>\n",
       "      <td>The best soundtrack ever to anything.: I'm rea...</td>\n",
       "      <td>2</td>\n",
       "    </tr>\n",
       "    <tr>\n",
       "      <th>2</th>\n",
       "      <td>Amazing!: This soundtrack is my favorite music...</td>\n",
       "      <td>2</td>\n",
       "    </tr>\n",
       "    <tr>\n",
       "      <th>3</th>\n",
       "      <td>Excellent Soundtrack: I truly like this soundt...</td>\n",
       "      <td>2</td>\n",
       "    </tr>\n",
       "    <tr>\n",
       "      <th>4</th>\n",
       "      <td>Remember, Pull Your Jaw Off The Floor After He...</td>\n",
       "      <td>2</td>\n",
       "    </tr>\n",
       "    <tr>\n",
       "      <th>...</th>\n",
       "      <td>...</td>\n",
       "      <td>...</td>\n",
       "    </tr>\n",
       "    <tr>\n",
       "      <th>3599995</th>\n",
       "      <td>Don't do it!!: The high chair looks great when...</td>\n",
       "      <td>1</td>\n",
       "    </tr>\n",
       "    <tr>\n",
       "      <th>3599996</th>\n",
       "      <td>Looks nice, low functionality: I have used thi...</td>\n",
       "      <td>1</td>\n",
       "    </tr>\n",
       "    <tr>\n",
       "      <th>3599997</th>\n",
       "      <td>compact, but hard to clean: We have a small ho...</td>\n",
       "      <td>1</td>\n",
       "    </tr>\n",
       "    <tr>\n",
       "      <th>3599998</th>\n",
       "      <td>what is it saying?: not sure what this book is...</td>\n",
       "      <td>1</td>\n",
       "    </tr>\n",
       "    <tr>\n",
       "      <th>3599999</th>\n",
       "      <td>Makes My Blood Run Red-White-And-Blue: I agree...</td>\n",
       "      <td>2</td>\n",
       "    </tr>\n",
       "  </tbody>\n",
       "</table>\n",
       "<p>3600000 rows × 2 columns</p>\n",
       "</div>"
      ],
      "text/plain": [
       "                                                    Review  Label\n",
       "0        Stuning even for the non-gamer: This sound tra...      2\n",
       "1        The best soundtrack ever to anything.: I'm rea...      2\n",
       "2        Amazing!: This soundtrack is my favorite music...      2\n",
       "3        Excellent Soundtrack: I truly like this soundt...      2\n",
       "4        Remember, Pull Your Jaw Off The Floor After He...      2\n",
       "...                                                    ...    ...\n",
       "3599995  Don't do it!!: The high chair looks great when...      1\n",
       "3599996  Looks nice, low functionality: I have used thi...      1\n",
       "3599997  compact, but hard to clean: We have a small ho...      1\n",
       "3599998  what is it saying?: not sure what this book is...      1\n",
       "3599999  Makes My Blood Run Red-White-And-Blue: I agree...      2\n",
       "\n",
       "[3600000 rows x 2 columns]"
      ]
     },
     "execution_count": 4,
     "metadata": {},
     "output_type": "execute_result"
    }
   ],
   "source": [
    "reviews"
   ]
  },
  {
   "cell_type": "markdown",
   "id": "fd27b7d3",
   "metadata": {},
   "source": [
    "# Data analysis\n"
   ]
  },
  {
   "cell_type": "markdown",
   "id": "2b893922",
   "metadata": {},
   "source": [
    "### Analysis of the dataset"
   ]
  },
  {
   "cell_type": "code",
   "execution_count": 5,
   "id": "17ca25d7",
   "metadata": {},
   "outputs": [
    {
     "data": {
      "text/plain": [
       "2    1800000\n",
       "1    1800000\n",
       "Name: Label, dtype: int64"
      ]
     },
     "execution_count": 5,
     "metadata": {},
     "output_type": "execute_result"
    }
   ],
   "source": [
    "reviews['Label'].value_counts()"
   ]
  },
  {
   "cell_type": "code",
   "execution_count": 6,
   "id": "3becbb47",
   "metadata": {},
   "outputs": [],
   "source": [
    "# Choose a random subset from the dataset with equal number of \n",
    "# positive and negative tweets\n",
    "subset = 100000\n",
    "pos_subset = reviews[reviews['Label'] == 2].sample(subset)\n",
    "neg_subset = reviews[reviews['Label'] == 1].sample(subset)\n",
    "\n",
    "modified_data = pd.concat([pos_subset, neg_subset])"
   ]
  },
  {
   "cell_type": "code",
   "execution_count": 7,
   "id": "80200f27",
   "metadata": {},
   "outputs": [
    {
     "data": {
      "text/html": [
       "<div>\n",
       "<style scoped>\n",
       "    .dataframe tbody tr th:only-of-type {\n",
       "        vertical-align: middle;\n",
       "    }\n",
       "\n",
       "    .dataframe tbody tr th {\n",
       "        vertical-align: top;\n",
       "    }\n",
       "\n",
       "    .dataframe thead th {\n",
       "        text-align: right;\n",
       "    }\n",
       "</style>\n",
       "<table border=\"1\" class=\"dataframe\">\n",
       "  <thead>\n",
       "    <tr style=\"text-align: right;\">\n",
       "      <th></th>\n",
       "      <th>Review</th>\n",
       "      <th>Label</th>\n",
       "    </tr>\n",
       "  </thead>\n",
       "  <tbody>\n",
       "    <tr>\n",
       "      <th>1373157</th>\n",
       "      <td>Harry Potter and the Sorcerer's Stone: Harry P...</td>\n",
       "      <td>2</td>\n",
       "    </tr>\n",
       "    <tr>\n",
       "      <th>640091</th>\n",
       "      <td>Not Happy: I ordered this game as a Christmas ...</td>\n",
       "      <td>1</td>\n",
       "    </tr>\n",
       "    <tr>\n",
       "      <th>2295378</th>\n",
       "      <td>Greatly disappointing: Of course the protagoni...</td>\n",
       "      <td>1</td>\n",
       "    </tr>\n",
       "    <tr>\n",
       "      <th>3216907</th>\n",
       "      <td>FRONT ROW NOT: Purchased this dvd and didn't r...</td>\n",
       "      <td>1</td>\n",
       "    </tr>\n",
       "    <tr>\n",
       "      <th>3583787</th>\n",
       "      <td>child's costume: My grandson loves the costume...</td>\n",
       "      <td>2</td>\n",
       "    </tr>\n",
       "  </tbody>\n",
       "</table>\n",
       "</div>"
      ],
      "text/plain": [
       "                                                    Review  Label\n",
       "1373157  Harry Potter and the Sorcerer's Stone: Harry P...      2\n",
       "640091   Not Happy: I ordered this game as a Christmas ...      1\n",
       "2295378  Greatly disappointing: Of course the protagoni...      1\n",
       "3216907  FRONT ROW NOT: Purchased this dvd and didn't r...      1\n",
       "3583787  child's costume: My grandson loves the costume...      2"
      ]
     },
     "execution_count": 7,
     "metadata": {},
     "output_type": "execute_result"
    }
   ],
   "source": [
    "modified_data.sample(5)"
   ]
  },
  {
   "cell_type": "markdown",
   "id": "294d811c",
   "metadata": {},
   "source": [
    "# Data Preprocessing"
   ]
  },
  {
   "cell_type": "code",
   "execution_count": 8,
   "id": "89ed0d4d",
   "metadata": {},
   "outputs": [],
   "source": [
    "abbreviations = {\n",
    "    \"$\" : \" dollar \",\n",
    "    \"€\" : \" euro \",\n",
    "    \"4ao\" : \"for adults only\",\n",
    "    \"1st\" : \"first\", \n",
    "    \"2nd\" : \"second\", \n",
    "    \"3rd\" : \"third\",\n",
    "    \"a.m\" : \"before midday\",\n",
    "    \"a3\" : \"anytime anywhere anyplace\",\n",
    "    \"aamof\" : \"as a matter of fact\",\n",
    "    \"acct\" : \"account\",\n",
    "    \"adih\" : \"another day in hell\",\n",
    "    \"afaic\" : \"as far as i am concerned\",\n",
    "    \"afaict\" : \"as far as i can tell\",\n",
    "    \"afaik\" : \"as far as i know\",\n",
    "    \"afair\" : \"as far as i remember\",\n",
    "    \"afk\" : \"away from keyboard\",\n",
    "    \"app\" : \"application\",\n",
    "    \"approx\" : \"approximately\",\n",
    "    \"apps\" : \"applications\",\n",
    "    \"asap\" : \"as soon as possible\",\n",
    "    \"asl\" : \"age, sex, location\",\n",
    "    \"atk\" : \"at the keyboard\",\n",
    "    \"ave.\" : \"avenue\",\n",
    "    \"aymm\" : \"are you my mother\",\n",
    "    \"ayor\" : \"at your own risk\", \n",
    "    \"b&b\" : \"bed and breakfast\",\n",
    "    \"b+b\" : \"bed and breakfast\",\n",
    "    \"b.c\" : \"before christ\",\n",
    "    \"b2b\" : \"business to business\",\n",
    "    \"b2c\" : \"business to customer\",\n",
    "    \"b4\" : \"before\",\n",
    "    \"b4n\" : \"bye for now\",\n",
    "    \"b@u\" : \"back at you\",\n",
    "    \"bae\" : \"before anyone else\",\n",
    "    \"bak\" : \"back at keyboard\",\n",
    "    \"bbbg\" : \"bye bye be good\",\n",
    "    \"bbc\" : \"british broadcasting corporation\",\n",
    "    \"bbias\" : \"be back in a second\",\n",
    "    \"bbl\" : \"be back later\",\n",
    "    \"bbs\" : \"be back soon\",\n",
    "    \"be4\" : \"before\",\n",
    "    \"bfn\" : \"bye for now\",\n",
    "    \"blvd\" : \"boulevard\",\n",
    "    \"bout\" : \"about\",\n",
    "    \"brb\" : \"be right back\",\n",
    "    \"bros\" : \"brothers\",\n",
    "    \"brt\" : \"be right there\",\n",
    "    \"bsaaw\" : \"big smile and a wink\",\n",
    "    \"btw\" : \"by the way\",\n",
    "    \"bwl\" : \"bursting with laughter\",\n",
    "    \"canx\" : \"cancel\",\n",
    "    \"c/o\" : \"care of\",\n",
    "    \"cet\" : \"central european time\",\n",
    "    \"cf\" : \"compare\",\n",
    "    \"cia\" : \"central intelligence agency\",\n",
    "    \"csl\" : \"can not stop laughing\",\n",
    "    \"cu\" : \"see you\",\n",
    "    \"cul8r\" : \"see you later\",\n",
    "    \"cv\" : \"curriculum vitae\",\n",
    "    \"cwot\" : \"complete waste of time\",\n",
    "    \"cya\" : \"see you\",\n",
    "    \"cyt\" : \"see you tomorrow\",\n",
    "    \"dae\" : \"does anyone else\",\n",
    "    \"dbmib\" : \"do not bother me i am busy\",\n",
    "    \"diy\" : \"do it yourself\",\n",
    "    \"dm\" : \"direct message\",\n",
    "    \"dnt\" : \"don't\",\n",
    "    \"dwh\" : \"during work hours\",\n",
    "    \"e123\" : \"easy as one two three\",\n",
    "    \"eet\" : \"eastern european time\",\n",
    "    \"eg\" : \"example\",\n",
    "    \"embm\" : \"early morning business meeting\",\n",
    "    \"emerg\" : \"emergency\",\n",
    "    \"encl\" : \"enclosed\",\n",
    "    \"encl.\" : \"enclosed\",\n",
    "    \"etc\" : \"and so on\",\n",
    "    \"faq\" : \"frequently asked questions\",\n",
    "    \"fawc\" : \"for anyone who cares\",\n",
    "    \"fb\" : \"facebook\",\n",
    "    \"fc\" : \"fingers crossed\",\n",
    "    \"fig\" : \"figure\",\n",
    "    \"fimh\" : \"forever in my heart\", \n",
    "    \"ft.\" : \"feet\",\n",
    "    \"ft\" : \"featuring\",\n",
    "    \"ftl\" : \"for the loss\",\n",
    "    \"ftw\" : \"for the win\",\n",
    "    \"fwiw\" : \"for what it is worth\",\n",
    "    \"fyi\" : \"for your information\",\n",
    "    \"g9\" : \"genius\",\n",
    "    \"gahoy\" : \"get a hold of yourself\",\n",
    "    \"gal\" : \"get a life\",\n",
    "    \"gcse\" : \"general certificate of secondary education\",\n",
    "    \"gfn\" : \"gone for now\",\n",
    "    \"gg\" : \"good game\",\n",
    "    \"gl\" : \"good luck\",\n",
    "    \"glhf\" : \"good luck have fun\",\n",
    "    \"gmt\" : \"greenwich mean time\",\n",
    "    \"gmta\" : \"great minds think alike\",\n",
    "    \"gn\" : \"good night\",\n",
    "    \"g.o.a.t\" : \"greatest of all time\",\n",
    "    \"goat\" : \"greatest of all time\",\n",
    "    \"goi\" : \"get over it\",\n",
    "    \"gps\" : \"global positioning system\",\n",
    "    \"gr8\" : \"great\",\n",
    "    \"gratz\" : \"congratulations\",\n",
    "    \"gyal\" : \"girl\",\n",
    "    \"haha\" : \"laugh\", \n",
    "    \"hahaha\" : \"laugh\", \n",
    "    \"hehe\" : \"laugh\", \n",
    "    \"h&c\" : \"hot and cold\",\n",
    "    \"hp\" : \"horsepower\",\n",
    "    \"hr\" : \"hour\",\n",
    "    \"hrs\" : \"hour\",\n",
    "    \"hrh\" : \"his royal highness\",    \n",
    "    \"ht\" : \"height\",\n",
    "    \"ibrb\" : \"i will be right back\",\n",
    "    \"ic\" : \"i see\",\n",
    "    \"icq\" : \"i seek you\",\n",
    "    \"icymi\" : \"in case you missed it\",\n",
    "    \"idc\" : \"i do not care\",\n",
    "    \"idgadf\" : \"i do not give a damn fuck\",\n",
    "    \"idgaf\" : \"i do not give a fuck\",\n",
    "    \"idk\" : \"i do not know\",\n",
    "    \"ie\" : \"that is\",\n",
    "    \"i.e\" : \"that is\",\n",
    "    \"ifyp\" : \"i feel your pain\",\n",
    "    \"IG\" : \"instagram\",\n",
    "    \"iirc\" : \"if i remember correctly\",\n",
    "    \"ilu\" : \"i love you\",\n",
    "    \"ily\" : \"i love you\",\n",
    "    \"imho\" : \"in my humble opinion\",\n",
    "    \"imo\" : \"in my opinion\",\n",
    "    \"imu\" : \"i miss you\",\n",
    "    \"iow\" : \"in other words\",\n",
    "    \"irl\" : \"in real life\",\n",
    "    \"j4f\" : \"just for fun\",\n",
    "    \"jic\" : \"just in case\",\n",
    "    \"jk\" : \"just kidding\",\n",
    "    \"jsyk\" : \"just so you know\",\n",
    "    \"l8r\" : \"later\",\n",
    "    \"lb\" : \"pound\",\n",
    "    \"lbs\" : \"pounds\",\n",
    "    \"ldr\" : \"long distance relationship\",\n",
    "    \"lmao\" : \"laugh my ass off\",\n",
    "    \"lmfao\" : \"laugh my fucking ass off\",\n",
    "    \"lol\" : \"laughing out loud\",\n",
    "    \"ltd\" : \"limited\",\n",
    "    \"ltns\" : \"long time no see\",\n",
    "    \"m8\" : \"mate\",\n",
    "    \"mf\" : \"motherfucker\",\n",
    "    \"mfs\" : \"motherfuckers\",\n",
    "    \"mfw\" : \"my face when\",\n",
    "    \"mofo\" : \"motherfucker\",\n",
    "    \"mph\" : \"miles per hour\",\n",
    "    \"mr\" : \"mister\",\n",
    "    \"mrw\" : \"my reaction when\",\n",
    "    \"ms\" : \"miss\",\n",
    "    \"mte\" : \"my thoughts exactly\",\n",
    "    \"nagi\" : \"not a good idea\",\n",
    "    \"nbc\" : \"national broadcasting company\",\n",
    "    \"nbd\" : \"not big deal\",\n",
    "    \"nfs\" : \"not for sale\",\n",
    "    \"ngl\" : \"not going to lie\",\n",
    "    \"nhs\" : \"national health service\",\n",
    "    \"nrn\" : \"no reply necessary\",\n",
    "    \"nsfl\" : \"not safe for life\",\n",
    "    \"nsfw\" : \"not safe for work\",\n",
    "    \"nth\" : \"nice to have\",\n",
    "    \"nvr\" : \"never\",\n",
    "    \"nyc\" : \"new york city\",\n",
    "    \"oc\" : \"original content\",\n",
    "    \"og\" : \"original\",\n",
    "    \"ohp\" : \"overhead projector\",\n",
    "    \"oic\" : \"oh i see\",\n",
    "    \"omdb\" : \"over my dead body\",\n",
    "    \"omg\" : \"oh my god\",\n",
    "    \"omw\" : \"on my way\",\n",
    "    \"p.a\" : \"per annum\",\n",
    "    \"p.m\" : \"after midday\",\n",
    "    \"pls\" : \"please\",\n",
    "    \"plz\" : \"please\",\n",
    "    \"pm\" : \"prime minister\",\n",
    "    \"poc\" : \"people of color\",\n",
    "    \"pov\" : \"point of view\",\n",
    "    \"pp\" : \"pages\",\n",
    "    \"ppl\" : \"people\",\n",
    "    \"prw\" : \"parents are watching\",\n",
    "    \"ps\" : \"postscript\",\n",
    "    \"pt\" : \"point\",\n",
    "    \"ptb\" : \"please text back\",\n",
    "    \"pto\" : \"please turn over\",\n",
    "    \"qpsa\" : \"what happens\", #\"que pasa\",\n",
    "    \"ratchet\" : \"rude\",\n",
    "    \"rbtl\" : \"read between the lines\",\n",
    "    \"rite\" : \"right\",\n",
    "    \"rlrt\" : \"real life retweet\", \n",
    "    \"rofl\" : \"rolling on the floor laughing\",\n",
    "    \"roflol\" : \"rolling on the floor laughing out loud\",\n",
    "    \"rotflmao\" : \"rolling on the floor laughing my ass off\",\n",
    "    \"rt\" : \"retweet\",\n",
    "    \"ruok\" : \"are you ok\",\n",
    "    \"sfw\" : \"safe for work\",\n",
    "    \"sk8\" : \"skate\",\n",
    "    \"smh\" : \"shake my head\",\n",
    "    \"sry\" : \"sorry\",\n",
    "    \"sq\" : \"square\",\n",
    "    \"srsly\" : \"seriously\", \n",
    "    \"ssdd\" : \"same stuff different day\",\n",
    "    \"tbh\" : \"to be honest\",\n",
    "    \"tbs\" : \"tablespooful\",\n",
    "    \"tbsp\" : \"tablespooful\",\n",
    "    \"tfw\" : \"that feeling when\",\n",
    "    \"thank\" : \"thank\",\n",
    "    \"thanks\" : \"thank\",\n",
    "    \"thks\" : \"thank\",\n",
    "    \"tho\" : \"though\",\n",
    "    \"thx\" : \"thank\",\n",
    "    \"tia\" : \"thanks in advance\",\n",
    "    \"til\" : \"until\",\n",
    "    \"tl;dr\" : \"too long i did not read\",\n",
    "    \"tldr\" : \"too long i did not read\",\n",
    "    \"tmb\" : \"tweet me back\",\n",
    "    \"tntl\" : \"trying not to laugh\",\n",
    "    \"ttyl\" : \"talk to you later\",\n",
    "    \"u\" : \"you\",\n",
    "    \"u2\" : \"you too\",\n",
    "    \"u4e\" : \"yours for ever\",\n",
    "    \"utc\" : \"coordinated universal time\",\n",
    "    \"us\" : \"united states\",\n",
    "    \"usa\" : \"united states\",\n",
    "    \"w/\" : \"with\",\n",
    "    \"w/o\" : \"without\",\n",
    "    \"w8\" : \"wait\",\n",
    "    \"wassup\" : \"what is up\",\n",
    "    \"wb\" : \"welcome back\",\n",
    "    \"wtf\" : \"what the fuck\",\n",
    "    \"wtg\" : \"way to go\",\n",
    "    \"wtpa\" : \"where the party at\",\n",
    "    \"wuf\" : \"where are you from\",\n",
    "    \"wuzup\" : \"what is up\",\n",
    "    \"wywh\" : \"wish you were here\",\n",
    "    \"ya\" : \"you\",\n",
    "    \"yd\" : \"yard\",\n",
    "    \"ygtr\" : \"you got that right\",\n",
    "    \"ynk\" : \"you never know\",\n",
    "    \"zzz\" : \"sleeping bored and tired\"\n",
    "}\n",
    "\n",
    "# This abbreviation list is by @nmaguette from Kaggle"
   ]
  },
  {
   "cell_type": "code",
   "execution_count": 9,
   "id": "8992faf9",
   "metadata": {},
   "outputs": [],
   "source": [
    "def expand_abbreviation(text):\n",
    "    \"\"\" This function takes an abbreviated string\n",
    "        and returns the expanded version with whitespace \n",
    "        replaced by underscore \"\"\"\n",
    "    \n",
    "    expanded_abbr = ''\n",
    "    expanded_text = ''\n",
    "    for word in text:\n",
    "        expanded_abbr = word\n",
    "        if word in abbreviations: \n",
    "            expanded_abbr = abbreviations[word]\n",
    "            expanded_abbr = expanded_abbr.replace(' ', '_')          \n",
    "        \n",
    "        expanded_text = expanded_text + expanded_abbr + \" \"\n",
    "    \n",
    "    return expanded_text"
   ]
  },
  {
   "cell_type": "code",
   "execution_count": 10,
   "id": "a3f019d4",
   "metadata": {},
   "outputs": [],
   "source": [
    "emot_obj = emot.core.emot()  "
   ]
  },
  {
   "cell_type": "code",
   "execution_count": 11,
   "id": "4df03fac",
   "metadata": {},
   "outputs": [],
   "source": [
    "def emoj_emot_to_text(text):\n",
    "    \"\"\" This function converts emojis and emoticons to corresponding text \"\"\"\n",
    "    \n",
    "    # Emoticons  \n",
    "    emoticons_list = emot_obj.emoticons(text)['mean']\n",
    "    for emoticon in emoticons_list: \n",
    "        emoticon = emoticon.replace(', ', ' ')\n",
    "        emoticon = emoticon.replace(' ', '_')\n",
    "        text = text + emoticon + \" \"       \n",
    "    \n",
    "    \n",
    "    # Emojis\n",
    "    text = emoji.demojize(text) \n",
    "    text = re.sub(':', '', text)\n",
    "    return text"
   ]
  },
  {
   "cell_type": "code",
   "execution_count": 12,
   "id": "76911d15",
   "metadata": {},
   "outputs": [],
   "source": [
    "stop_words = list(STOP_WORDS)\n",
    "\n",
    "# Exclude from stop words list the following negative words\n",
    "stop_words.remove('not')\n",
    "stop_words.remove('never')\n",
    "stop_words.remove('none')\n",
    "stop_words.remove('noone')\n",
    "stop_words.remove('neither')\n",
    "stop_words.remove('cannot')"
   ]
  },
  {
   "cell_type": "code",
   "execution_count": 13,
   "id": "6faaf4c0",
   "metadata": {},
   "outputs": [],
   "source": [
    "def remove_trivial_words(text):  \n",
    "    \"\"\" This function Removes stopwords and words with length of one character or two \"\"\"\n",
    "    \n",
    "    temp = \"\"\n",
    "    for word in text.split():\n",
    "        if  word not in stop_words:\n",
    "            if len(word) != 1 and len(word) != 2:\n",
    "                temp += word + \" \"\n",
    "    return temp"
   ]
  },
  {
   "cell_type": "code",
   "execution_count": 14,
   "id": "cb623e52",
   "metadata": {},
   "outputs": [],
   "source": [
    "# Stemming\n",
    "snowballStemmer = SnowballStemmer(language='english') \n",
    "\n",
    "def preprocess_texts(text): \n",
    "    \n",
    "    #     Preprocess texts\n",
    "    text = text.lower() # Convert to lower case\n",
    "    text = contractions.fix(text) # Remove contractions\n",
    "    \n",
    "    #     Remove insignificant characters using regex\n",
    "    text = re.sub('\\S+@\\S+.\\S+', '', text) # Remove emails\n",
    "    text = re.sub('@[\\S]+', '', text) # Remove mentions starting with @       \n",
    "    text = re.sub('(http|https):\\/\\/[\\S]*', '', text) # Remove links starting with http or https\n",
    "    text = re.sub('#+\\S*|\\.+', '', text) # Remove Hashtags and dots\n",
    "    text = re.sub(r'(.)\\1{2,}', r'\\1', text) # Remove characters repetition\n",
    "    text = re.sub(r'&[\\S]+;', '', text) # Remove html tags, such as &amp;  \n",
    "    text = re.split('(\\W+)', text) # Insert a space between characters and punctuations\n",
    "       \n",
    "    # Expand abbreviations\n",
    "    text = expand_abbreviation(text)   \n",
    "    \n",
    "    # Emojis and Emoticons\n",
    "    text = emoj_emot_to_text(text)      \n",
    "    \n",
    "    text = re.sub('\\W', ' ', text)  # Remove remaining punctuations  \n",
    "    text = re.sub('\\d', '', text)  # Remove Numbers    \n",
    "   \n",
    "    # Remove trivial words\n",
    "    text = remove_trivial_words(text)\n",
    "    \n",
    "    # Stemming    \n",
    "    stemmed_token_list = [] \n",
    "    for token in text.split(): \n",
    "        stemmed_token_list.append(snowballStemmer.stem(token))\n",
    "\n",
    "    return stemmed_token_list #Return processed text as a list"
   ]
  },
  {
   "cell_type": "code",
   "execution_count": 15,
   "id": "c4aaf445",
   "metadata": {},
   "outputs": [],
   "source": [
    "modified_data['Tokens'] = modified_data['Review'].apply(preprocess_texts)"
   ]
  },
  {
   "cell_type": "code",
   "execution_count": 16,
   "id": "362c0f55",
   "metadata": {},
   "outputs": [
    {
     "data": {
      "text/html": [
       "<div>\n",
       "<style scoped>\n",
       "    .dataframe tbody tr th:only-of-type {\n",
       "        vertical-align: middle;\n",
       "    }\n",
       "\n",
       "    .dataframe tbody tr th {\n",
       "        vertical-align: top;\n",
       "    }\n",
       "\n",
       "    .dataframe thead th {\n",
       "        text-align: right;\n",
       "    }\n",
       "</style>\n",
       "<table border=\"1\" class=\"dataframe\">\n",
       "  <thead>\n",
       "    <tr style=\"text-align: right;\">\n",
       "      <th></th>\n",
       "      <th>Review</th>\n",
       "      <th>Label</th>\n",
       "      <th>Tokens</th>\n",
       "    </tr>\n",
       "  </thead>\n",
       "  <tbody>\n",
       "    <tr>\n",
       "      <th>1656617</th>\n",
       "      <td>best book ever: one of the best books i have e...</td>\n",
       "      <td>2</td>\n",
       "      <td>[best, book, best, book, readwa, abl, read, si...</td>\n",
       "    </tr>\n",
       "    <tr>\n",
       "      <th>199910</th>\n",
       "      <td>Electronic Evidence and Discovery: What Every ...</td>\n",
       "      <td>2</td>\n",
       "      <td>[electron, evid, discoveri, lawyer, know, foun...</td>\n",
       "    </tr>\n",
       "    <tr>\n",
       "      <th>2764819</th>\n",
       "      <td>Jordan's story is worth it alone!: If you're a...</td>\n",
       "      <td>2</td>\n",
       "      <td>[jordan, stori, worth, fan, robert, jordan, wh...</td>\n",
       "    </tr>\n",
       "    <tr>\n",
       "      <th>486001</th>\n",
       "      <td>women pirates: I think women pirates are cool ...</td>\n",
       "      <td>2</td>\n",
       "      <td>[women, pirat, think, women, pirat, cool, read...</td>\n",
       "    </tr>\n",
       "    <tr>\n",
       "      <th>493458</th>\n",
       "      <td>Safety first: My daughter now has 4 Graco Pack...</td>\n",
       "      <td>2</td>\n",
       "      <td>[safeti, daughter, graco, pack, play, daycar, ...</td>\n",
       "    </tr>\n",
       "    <tr>\n",
       "      <th>...</th>\n",
       "      <td>...</td>\n",
       "      <td>...</td>\n",
       "      <td>...</td>\n",
       "    </tr>\n",
       "    <tr>\n",
       "      <th>480893</th>\n",
       "      <td>Very bad do not buy: Very bad do not buy canno...</td>\n",
       "      <td>1</td>\n",
       "      <td>[bad, not, buy, bad, not, buy, cannot, hear, b...</td>\n",
       "    </tr>\n",
       "    <tr>\n",
       "      <th>2468247</th>\n",
       "      <td>Re-arranging history: All g.r.r Martin has don...</td>\n",
       "      <td>1</td>\n",
       "      <td>[arrang, histori, grr, martin, taken, war, ros...</td>\n",
       "    </tr>\n",
       "    <tr>\n",
       "      <th>344556</th>\n",
       "      <td>Dont buy this item: Received this in order to ...</td>\n",
       "      <td>1</td>\n",
       "      <td>[not, buy, item, receiv, order, backup, dead, ...</td>\n",
       "    </tr>\n",
       "    <tr>\n",
       "      <th>94102</th>\n",
       "      <td>Interrupted Melody: I bought this tape knowing...</td>\n",
       "      <td>1</td>\n",
       "      <td>[interrupt, melodi, bought, tape, know, mark, ...</td>\n",
       "    </tr>\n",
       "    <tr>\n",
       "      <th>2442448</th>\n",
       "      <td>\"Steamed\" over Half-Life 2: I'm so frustrated ...</td>\n",
       "      <td>1</td>\n",
       "      <td>[steam, half, life, frustrat, not, know, begin...</td>\n",
       "    </tr>\n",
       "  </tbody>\n",
       "</table>\n",
       "<p>200000 rows × 3 columns</p>\n",
       "</div>"
      ],
      "text/plain": [
       "                                                    Review  Label  \\\n",
       "1656617  best book ever: one of the best books i have e...      2   \n",
       "199910   Electronic Evidence and Discovery: What Every ...      2   \n",
       "2764819  Jordan's story is worth it alone!: If you're a...      2   \n",
       "486001   women pirates: I think women pirates are cool ...      2   \n",
       "493458   Safety first: My daughter now has 4 Graco Pack...      2   \n",
       "...                                                    ...    ...   \n",
       "480893   Very bad do not buy: Very bad do not buy canno...      1   \n",
       "2468247  Re-arranging history: All g.r.r Martin has don...      1   \n",
       "344556   Dont buy this item: Received this in order to ...      1   \n",
       "94102    Interrupted Melody: I bought this tape knowing...      1   \n",
       "2442448  \"Steamed\" over Half-Life 2: I'm so frustrated ...      1   \n",
       "\n",
       "                                                    Tokens  \n",
       "1656617  [best, book, best, book, readwa, abl, read, si...  \n",
       "199910   [electron, evid, discoveri, lawyer, know, foun...  \n",
       "2764819  [jordan, stori, worth, fan, robert, jordan, wh...  \n",
       "486001   [women, pirat, think, women, pirat, cool, read...  \n",
       "493458   [safeti, daughter, graco, pack, play, daycar, ...  \n",
       "...                                                    ...  \n",
       "480893   [bad, not, buy, bad, not, buy, cannot, hear, b...  \n",
       "2468247  [arrang, histori, grr, martin, taken, war, ros...  \n",
       "344556   [not, buy, item, receiv, order, backup, dead, ...  \n",
       "94102    [interrupt, melodi, bought, tape, know, mark, ...  \n",
       "2442448  [steam, half, life, frustrat, not, know, begin...  \n",
       "\n",
       "[200000 rows x 3 columns]"
      ]
     },
     "execution_count": 16,
     "metadata": {},
     "output_type": "execute_result"
    }
   ],
   "source": [
    "modified_data"
   ]
  },
  {
   "cell_type": "code",
   "execution_count": 17,
   "id": "8f125a1f",
   "metadata": {},
   "outputs": [
    {
     "data": {
      "text/html": [
       "<div>\n",
       "<style scoped>\n",
       "    .dataframe tbody tr th:only-of-type {\n",
       "        vertical-align: middle;\n",
       "    }\n",
       "\n",
       "    .dataframe tbody tr th {\n",
       "        vertical-align: top;\n",
       "    }\n",
       "\n",
       "    .dataframe thead th {\n",
       "        text-align: right;\n",
       "    }\n",
       "</style>\n",
       "<table border=\"1\" class=\"dataframe\">\n",
       "  <thead>\n",
       "    <tr style=\"text-align: right;\">\n",
       "      <th></th>\n",
       "      <th>Review</th>\n",
       "      <th>Label</th>\n",
       "      <th>Tokens</th>\n",
       "      <th>String_tokens</th>\n",
       "    </tr>\n",
       "  </thead>\n",
       "  <tbody>\n",
       "    <tr>\n",
       "      <th>0</th>\n",
       "      <td>best book ever: one of the best books i have e...</td>\n",
       "      <td>2</td>\n",
       "      <td>[best, book, best, book, readwa, abl, read, si...</td>\n",
       "      <td>best book best book readwa abl read sit not do...</td>\n",
       "    </tr>\n",
       "    <tr>\n",
       "      <th>1</th>\n",
       "      <td>Electronic Evidence and Discovery: What Every ...</td>\n",
       "      <td>2</td>\n",
       "      <td>[electron, evid, discoveri, lawyer, know, foun...</td>\n",
       "      <td>electron evid discoveri lawyer know found book...</td>\n",
       "    </tr>\n",
       "    <tr>\n",
       "      <th>2</th>\n",
       "      <td>Jordan's story is worth it alone!: If you're a...</td>\n",
       "      <td>2</td>\n",
       "      <td>[jordan, stori, worth, fan, robert, jordan, wh...</td>\n",
       "      <td>jordan stori worth fan robert jordan wheel tim...</td>\n",
       "    </tr>\n",
       "    <tr>\n",
       "      <th>3</th>\n",
       "      <td>women pirates: I think women pirates are cool ...</td>\n",
       "      <td>2</td>\n",
       "      <td>[women, pirat, think, women, pirat, cool, read...</td>\n",
       "      <td>women pirat think women pirat cool read not kn...</td>\n",
       "    </tr>\n",
       "    <tr>\n",
       "      <th>4</th>\n",
       "      <td>Safety first: My daughter now has 4 Graco Pack...</td>\n",
       "      <td>2</td>\n",
       "      <td>[safeti, daughter, graco, pack, play, daycar, ...</td>\n",
       "      <td>safeti daughter graco pack play daycar busi ea...</td>\n",
       "    </tr>\n",
       "    <tr>\n",
       "      <th>...</th>\n",
       "      <td>...</td>\n",
       "      <td>...</td>\n",
       "      <td>...</td>\n",
       "      <td>...</td>\n",
       "    </tr>\n",
       "    <tr>\n",
       "      <th>199995</th>\n",
       "      <td>Very bad do not buy: Very bad do not buy canno...</td>\n",
       "      <td>1</td>\n",
       "      <td>[bad, not, buy, bad, not, buy, cannot, hear, b...</td>\n",
       "      <td>bad not buy bad not buy cannot hear bluetooth ...</td>\n",
       "    </tr>\n",
       "    <tr>\n",
       "      <th>199996</th>\n",
       "      <td>Re-arranging history: All g.r.r Martin has don...</td>\n",
       "      <td>1</td>\n",
       "      <td>[arrang, histori, grr, martin, taken, war, ros...</td>\n",
       "      <td>arrang histori grr martin taken war rose set d...</td>\n",
       "    </tr>\n",
       "    <tr>\n",
       "      <th>199997</th>\n",
       "      <td>Dont buy this item: Received this in order to ...</td>\n",
       "      <td>1</td>\n",
       "      <td>[not, buy, item, receiv, order, backup, dead, ...</td>\n",
       "      <td>not buy item receiv order backup dead laptop h...</td>\n",
       "    </tr>\n",
       "    <tr>\n",
       "      <th>199998</th>\n",
       "      <td>Interrupted Melody: I bought this tape knowing...</td>\n",
       "      <td>1</td>\n",
       "      <td>[interrupt, melodi, bought, tape, know, mark, ...</td>\n",
       "      <td>interrupt melodi bought tape know mark good co...</td>\n",
       "    </tr>\n",
       "    <tr>\n",
       "      <th>199999</th>\n",
       "      <td>\"Steamed\" over Half-Life 2: I'm so frustrated ...</td>\n",
       "      <td>1</td>\n",
       "      <td>[steam, half, life, frustrat, not, know, begin...</td>\n",
       "      <td>steam half life frustrat not know begin bought...</td>\n",
       "    </tr>\n",
       "  </tbody>\n",
       "</table>\n",
       "<p>200000 rows × 4 columns</p>\n",
       "</div>"
      ],
      "text/plain": [
       "                                                   Review  Label  \\\n",
       "0       best book ever: one of the best books i have e...      2   \n",
       "1       Electronic Evidence and Discovery: What Every ...      2   \n",
       "2       Jordan's story is worth it alone!: If you're a...      2   \n",
       "3       women pirates: I think women pirates are cool ...      2   \n",
       "4       Safety first: My daughter now has 4 Graco Pack...      2   \n",
       "...                                                   ...    ...   \n",
       "199995  Very bad do not buy: Very bad do not buy canno...      1   \n",
       "199996  Re-arranging history: All g.r.r Martin has don...      1   \n",
       "199997  Dont buy this item: Received this in order to ...      1   \n",
       "199998  Interrupted Melody: I bought this tape knowing...      1   \n",
       "199999  \"Steamed\" over Half-Life 2: I'm so frustrated ...      1   \n",
       "\n",
       "                                                   Tokens  \\\n",
       "0       [best, book, best, book, readwa, abl, read, si...   \n",
       "1       [electron, evid, discoveri, lawyer, know, foun...   \n",
       "2       [jordan, stori, worth, fan, robert, jordan, wh...   \n",
       "3       [women, pirat, think, women, pirat, cool, read...   \n",
       "4       [safeti, daughter, graco, pack, play, daycar, ...   \n",
       "...                                                   ...   \n",
       "199995  [bad, not, buy, bad, not, buy, cannot, hear, b...   \n",
       "199996  [arrang, histori, grr, martin, taken, war, ros...   \n",
       "199997  [not, buy, item, receiv, order, backup, dead, ...   \n",
       "199998  [interrupt, melodi, bought, tape, know, mark, ...   \n",
       "199999  [steam, half, life, frustrat, not, know, begin...   \n",
       "\n",
       "                                            String_tokens  \n",
       "0       best book best book readwa abl read sit not do...  \n",
       "1       electron evid discoveri lawyer know found book...  \n",
       "2       jordan stori worth fan robert jordan wheel tim...  \n",
       "3       women pirat think women pirat cool read not kn...  \n",
       "4       safeti daughter graco pack play daycar busi ea...  \n",
       "...                                                   ...  \n",
       "199995  bad not buy bad not buy cannot hear bluetooth ...  \n",
       "199996  arrang histori grr martin taken war rose set d...  \n",
       "199997  not buy item receiv order backup dead laptop h...  \n",
       "199998  interrupt melodi bought tape know mark good co...  \n",
       "199999  steam half life frustrat not know begin bought...  \n",
       "\n",
       "[200000 rows x 4 columns]"
      ]
     },
     "execution_count": 17,
     "metadata": {},
     "output_type": "execute_result"
    }
   ],
   "source": [
    "# Convert token lists to string \n",
    "def convert_list_str(tokens):\n",
    "    return ' '.join(tokens)\n",
    "modified_data['String_tokens'] = modified_data['Tokens'].apply(convert_list_str)\n",
    "modified_data = modified_data.reset_index(drop=True)\n",
    "modified_data"
   ]
  },
  {
   "cell_type": "markdown",
   "id": "03d0de43",
   "metadata": {},
   "source": [
    "# Analyze data after processing"
   ]
  },
  {
   "cell_type": "code",
   "execution_count": 18,
   "id": "47d25ce8",
   "metadata": {},
   "outputs": [
    {
     "name": "stdout",
     "output_type": "stream",
     "text": [
      "Number of tokens: 7040024\n",
      "Number of unique tokens: 224142\n",
      "Positive Tokens: 3410224\n",
      "Negative Tokens: 3629800\n",
      "Positive Unique Tokens: 113922\n",
      "Negative Unique Tokens: 110220\n"
     ]
    }
   ],
   "source": [
    "# Count the number of tokens in the dataset after processing\n",
    "num_unique_tokens = 0\n",
    "num_of_total_tokens = 0\n",
    "num_pos_tokens = 0\n",
    "num_neg_tokens = 0\n",
    "pos_tokens = []\n",
    "neg_tokens = []\n",
    "rows = modified_data.shape[0]\n",
    "\n",
    "for i in range(rows):\n",
    "    if modified_data['Label'][i] == 1:\n",
    "        for token in modified_data['Tokens'][i]:\n",
    "            neg_tokens.append(token)    \n",
    "    else:\n",
    "        for token in modified_data['Tokens'][i]:\n",
    "            pos_tokens.append(token)     \n",
    "\n",
    "num_pos_tokens = len(pos_tokens)\n",
    "num_neg_tokens = len(neg_tokens)\n",
    "num_of_total_tokens = num_pos_tokens + num_neg_tokens\n",
    "num_unique_tokens = len(set(pos_tokens)) + len(set(neg_tokens))\n",
    "\n",
    "print(f\"\"\"Number of tokens: {num_of_total_tokens}\n",
    "Number of unique tokens: {num_unique_tokens}\n",
    "Positive Tokens: {num_pos_tokens}\n",
    "Negative Tokens: {num_neg_tokens}\n",
    "Positive Unique Tokens: {len(set(pos_tokens))}\n",
    "Negative Unique Tokens: {len(set(neg_tokens))}\"\"\")"
   ]
  },
  {
   "cell_type": "code",
   "execution_count": 19,
   "id": "0d4b0027",
   "metadata": {},
   "outputs": [],
   "source": [
    "# Calculate words occurances \n",
    "def occurances_of_words(dataframe, reverse=True):\n",
    "    freq_words_dic = {}\n",
    "    rows = dataframe.shape[0]\n",
    "    \n",
    "    for i in range(rows):\n",
    "        for word in dataframe['Tokens'][i]:\n",
    "            if word in freq_words_dic:\n",
    "                freq = freq_words_dic[word]\n",
    "                freq_words_dic[word] = freq + 1\n",
    "            else:\n",
    "                freq_words_dic[word] = 1\n",
    "    return sorted(freq_words_dic.items(), key=lambda x: x[1], reverse=reverse)"
   ]
  },
  {
   "cell_type": "code",
   "execution_count": 20,
   "id": "c1339581",
   "metadata": {},
   "outputs": [
    {
     "data": {
      "text/plain": [
       "[('not', 156688),\n",
       " ('book', 59643),\n",
       " ('like', 33571),\n",
       " ('time', 24949),\n",
       " ('good', 24331),\n",
       " ('work', 24188),\n",
       " ('read', 23454),\n",
       " ('movi', 20913),\n",
       " ('buy', 19894),\n",
       " ('product', 18515),\n",
       " ('look', 15810),\n",
       " ('money', 15050),\n",
       " ('tri', 14704),\n",
       " ('use', 14367),\n",
       " ('disappoint', 14268),\n",
       " ('great', 13661),\n",
       " ('want', 13538),\n",
       " ('bad', 13274),\n",
       " ('better', 13127),\n",
       " ('bought', 12274)]"
      ]
     },
     "execution_count": 20,
     "metadata": {},
     "output_type": "execute_result"
    }
   ],
   "source": [
    "# Calculate words occurances in negative tweets\n",
    "neg_modified_data = modified_data[modified_data['Label'] == 1]\n",
    "neg_modified_data = neg_modified_data.reset_index(drop=True)\n",
    "\n",
    "neg_freq_words = occurances_of_words(neg_modified_data)\n",
    "sorted(neg_freq_words, key=lambda x: x[1], reverse=True)[:20]"
   ]
  },
  {
   "cell_type": "code",
   "execution_count": 21,
   "id": "0990fbb3",
   "metadata": {},
   "outputs": [
    {
     "data": {
      "text/plain": [
       "[('not', 73456),\n",
       " ('book', 63883),\n",
       " ('great', 46269),\n",
       " ('good', 33244),\n",
       " ('like', 31456),\n",
       " ('read', 30295),\n",
       " ('love', 29394),\n",
       " ('time', 21821),\n",
       " ('work', 18934),\n",
       " ('movi', 17919),\n",
       " ('best', 17705),\n",
       " ('album', 14542),\n",
       " ('year', 13986),\n",
       " ('stori', 13634),\n",
       " ('use', 13325),\n",
       " ('look', 12561),\n",
       " ('song', 12540),\n",
       " ('recommend', 12043),\n",
       " ('music', 11917),\n",
       " ('want', 11682)]"
      ]
     },
     "execution_count": 21,
     "metadata": {},
     "output_type": "execute_result"
    }
   ],
   "source": [
    "# Calculate words occurances in positive tweets\n",
    "pos_modified_data = modified_data[modified_data['Label'] == 2]\n",
    "pos_modified_data = pos_modified_data.reset_index(drop=True)\n",
    "\n",
    "pos_freq_words = occurances_of_words(pos_modified_data)\n",
    "sorted(pos_freq_words, key=lambda x: x[1], reverse=True)[:20]"
   ]
  },
  {
   "cell_type": "code",
   "execution_count": 22,
   "id": "c788007f",
   "metadata": {},
   "outputs": [],
   "source": [
    "def plot_ten_freq_words(freq_words_list, label, color):\n",
    "    \"\"\" Plot a bar chart with the ten most frequent words \"\"\"\n",
    "    \n",
    "    ten_freq_words = [f_item[0] for f_item in freq_words_list]\n",
    "    occurances = [s_item[1] for s_item in freq_words_list]    \n",
    "    \n",
    "    # X ticks position\n",
    "    x_pos = [x*2 for x in range(10)]\n",
    "\n",
    "    plt.bar(x_pos, occurances, align='center', width=1.5, alpha=0.8, color=color, label=label)\n",
    "    plt.xlabel('Most Frequent Words')\n",
    "    plt.ylabel('Number of occurances')\n",
    "    plt.legend()\n",
    "    plt.xticks(x_pos, ten_freq_words, rotation='vertical')\n",
    "    plt.show()"
   ]
  },
  {
   "cell_type": "code",
   "execution_count": 23,
   "id": "1ab9221a",
   "metadata": {},
   "outputs": [
    {
     "data": {
      "image/png": "[encoded data removed]",
      "text/plain": [
       "<Figure size 432x288 with 1 Axes>"
      ]
     },
     "metadata": {
      "needs_background": "light"
     },
     "output_type": "display_data"
    },
    {
     "data": {
      "image/png": "[encoded data removed]",
      "text/plain": [
       "<Figure size 432x288 with 1 Axes>"
      ]
     },
     "metadata": {
      "needs_background": "light"
     },
     "output_type": "display_data"
    }
   ],
   "source": [
    "ten_neg_freq_words = neg_freq_words[:10]\n",
    "ten_neg_freq_words\n",
    "plot_ten_freq_words(ten_neg_freq_words, 'Negative Words', 'red')\n",
    "ten_pos_freq_words = pos_freq_words[:10]\n",
    "ten_pos_freq_words\n",
    "plot_ten_freq_words(ten_pos_freq_words, 'Positive Words', 'green')"
   ]
  },
  {
   "cell_type": "markdown",
   "id": "7434cf11",
   "metadata": {},
   "source": [
    "# Feature Extraction and Model Training"
   ]
  },
  {
   "cell_type": "code",
   "execution_count": 24,
   "id": "edee676e",
   "metadata": {},
   "outputs": [
    {
     "name": "stdout",
     "output_type": "stream",
     "text": [
      "Splitted data: \n",
      "Train Dimensions: (160000, 4)\n",
      "Test Dimensions: (40000, 4)\n",
      "\n",
      "Fitted data: \n",
      "Train Dimensions: (160000, 2635745)\n",
      "Test Dimensions: (40000, 2635745)\n"
     ]
    }
   ],
   "source": [
    "X_train, y_test = train_test_split(modified_data, test_size=0.2, random_state = 0)\n",
    "print(f'Splitted data: \\nTrain Dimensions: {X_train.shape}\\nTest Dimensions: {y_test.shape}\\n')\n",
    "\n",
    "tfidf = TfidfVectorizer(ngram_range=(1, 2))\n",
    "tfidf.fit(X_train['String_tokens'])\n",
    "trained_tfidf = tfidf.transform(X_train['String_tokens'])\n",
    "test_tfidf = tfidf.transform(y_test['String_tokens'])\n",
    "print(f'Fitted data: \\nTrain Dimensions: {trained_tfidf.shape}\\nTest Dimensions: {test_tfidf.shape}')"
   ]
  },
  {
   "cell_type": "markdown",
   "id": "1f010d83",
   "metadata": {},
   "source": [
    "## Logistic Regression"
   ]
  },
  {
   "cell_type": "code",
   "execution_count": 25,
   "id": "ef5d156d",
   "metadata": {},
   "outputs": [
    {
     "data": {
      "text/plain": [
       "0.897675"
      ]
     },
     "execution_count": 25,
     "metadata": {},
     "output_type": "execute_result"
    }
   ],
   "source": [
    "log_model = LogisticRegression(max_iter=1000)\n",
    "log_model.fit(trained_tfidf, X_train['Label'])\n",
    "log_model.score(test_tfidf, y_test['Label'])"
   ]
  },
  {
   "cell_type": "markdown",
   "id": "04f2e325",
   "metadata": {},
   "source": [
    "## Linear SVM"
   ]
  },
  {
   "cell_type": "code",
   "execution_count": 26,
   "id": "b54e4415",
   "metadata": {},
   "outputs": [
    {
     "data": {
      "text/plain": [
       "0.90745"
      ]
     },
     "execution_count": 26,
     "metadata": {},
     "output_type": "execute_result"
    }
   ],
   "source": [
    "svm_model_linear = LinearSVC()\n",
    "svm_model_linear.fit(trained_tfidf, X_train['Label'])\n",
    "svm_model_linear.score(test_tfidf, y_test['Label'])"
   ]
  },
  {
   "cell_type": "markdown",
   "id": "5493ba61",
   "metadata": {},
   "source": [
    "## Decision Tree"
   ]
  },
  {
   "cell_type": "code",
   "execution_count": 27,
   "id": "dbd9ee5e",
   "metadata": {},
   "outputs": [
    {
     "data": {
      "text/plain": [
       "0.775275"
      ]
     },
     "execution_count": 27,
     "metadata": {},
     "output_type": "execute_result"
    }
   ],
   "source": [
    "dtree_model = DecisionTreeClassifier()\n",
    "dtree_model.fit(trained_tfidf, X_train['Label'])\n",
    "dtree_model.score(test_tfidf, y_test['Label'])"
   ]
  },
  {
   "cell_type": "markdown",
   "id": "92142cf6",
   "metadata": {},
   "source": [
    "## Random Forest"
   ]
  },
  {
   "cell_type": "code",
   "execution_count": 28,
   "id": "73f4ff20",
   "metadata": {},
   "outputs": [
    {
     "data": {
      "text/plain": [
       "0.873425"
      ]
     },
     "execution_count": 28,
     "metadata": {},
     "output_type": "execute_result"
    }
   ],
   "source": [
    "rforest_model = RandomForestClassifier()\n",
    "rforest_model.fit(trained_tfidf, X_train['Label'])\n",
    "rforest_model.score(test_tfidf, y_test['Label'])"
   ]
  },
  {
   "cell_type": "markdown",
   "id": "eaa7acd2",
   "metadata": {},
   "source": [
    "## Naive Bayes - MultinomialNB"
   ]
  },
  {
   "cell_type": "code",
   "execution_count": 29,
   "id": "44a732a4",
   "metadata": {},
   "outputs": [
    {
     "data": {
      "text/plain": [
       "0.871"
      ]
     },
     "execution_count": 29,
     "metadata": {},
     "output_type": "execute_result"
    }
   ],
   "source": [
    "nb_multinomial_model = naive_bayes.MultinomialNB()\n",
    "nb_multinomial_model.fit(trained_tfidf, X_train['Label'])\n",
    "nb_multinomial_model.score(test_tfidf, y_test['Label'])"
   ]
  },
  {
   "cell_type": "markdown",
   "id": "165e845c",
   "metadata": {},
   "source": [
    "## Naive Bayes - BernoulliNB"
   ]
  },
  {
   "cell_type": "code",
   "execution_count": 30,
   "id": "9f2bc233",
   "metadata": {},
   "outputs": [
    {
     "data": {
      "text/plain": [
       "0.869225"
      ]
     },
     "execution_count": 30,
     "metadata": {},
     "output_type": "execute_result"
    }
   ],
   "source": [
    "nb_bernoulli_model = naive_bayes.BernoulliNB()\n",
    "nb_bernoulli_model.fit(trained_tfidf, X_train['Label'])\n",
    "nb_bernoulli_model.score(test_tfidf, y_test['Label'])"
   ]
  },
  {
   "cell_type": "markdown",
   "id": "5f5aa989",
   "metadata": {},
   "source": [
    "# Saving the best model"
   ]
  },
  {
   "cell_type": "code",
   "execution_count": 31,
   "id": "5eeacbda",
   "metadata": {},
   "outputs": [
    {
     "data": {
      "text/plain": [
       "['/home/verpen/Downloads/Datasets/Models/SA_Amazon_Reviews_SVM_91ACC']"
      ]
     },
     "execution_count": 31,
     "metadata": {},
     "output_type": "execute_result"
    }
   ],
   "source": [
    "joblib.dump(svm_model_linear, '/home/verpen/Downloads/Datasets/Models/SA_Amazon_Reviews_SVM_91ACC')"
   ]
  },
  {
   "cell_type": "markdown",
   "id": "1b18a694",
   "metadata": {},
   "source": [
    "# Testing the model "
   ]
  },
  {
   "cell_type": "code",
   "execution_count": 32,
   "id": "0748bcf6",
   "metadata": {},
   "outputs": [],
   "source": [
    "def pipeline(model, test_data):\n",
    "    \n",
    "    # Preprocessing\n",
    "    print(\"Processing texts....\")\n",
    "    start = time.perf_counter()\n",
    "    test_data['processed_texts'] = test_data['Review'].apply(preprocess_texts)\n",
    "    test_data['string_texts'] = test_data['processed_texts'].apply(convert_list_str)\n",
    "    end = time.perf_counter()    \n",
    "    print(f'Processing time: {end - start}')\n",
    "    \n",
    "    # Transforming processed text using tfidf vectorizer initiated and fitted above\n",
    "    print(\"Transforming texts to features....\")\n",
    "    test_tfidf = tfidf.transform(test_data['string_texts'])\n",
    "    \n",
    "    # Predict\n",
    "    print(\"Predicting....\")\n",
    "    predictions = model.predict(test_tfidf)\n",
    "    \n",
    "    # Print a Classification report\n",
    "    print(classification_report(test_data['Label'], predictions))\n",
    "    cm = confusion_matrix(test_data['Label'], predictions, labels=[1, 2])\n",
    "    print(cm)\n",
    "    \n",
    "    # Plot a heatmap\n",
    "    plt.figure(figsize= (10, 7))\n",
    "    sn.heatmap(cm, annot=True, fmt='.0f')\n",
    "    plt.xlabel('Predicted')\n",
    "    plt.ylabel('value')\n",
    "    plt.show()\n",
    "    \n",
    "    # Plot a pie \n",
    "    (unique, counts) = np.unique(predictions, return_counts=True)\n",
    "    print(f'Unique: {unique}\\t\\tCounts: {counts}')\n",
    "    \n",
    "    neg_texts_counts = counts[0]\n",
    "    pos_texts_counts = counts[1]\n",
    "    labels = [\"Negative\", \"Positive\"]\n",
    "    plt.pie(counts, labels=labels, shadow=True, autopct=\"%1.2f%%\")"
   ]
  },
  {
   "cell_type": "markdown",
   "id": "dff3f57e",
   "metadata": {},
   "source": [
    "# Model testing with Amazon Reviews dataset"
   ]
  },
  {
   "cell_type": "code",
   "execution_count": 33,
   "id": "de636542",
   "metadata": {},
   "outputs": [
    {
     "data": {
      "text/html": [
       "<div>\n",
       "<style scoped>\n",
       "    .dataframe tbody tr th:only-of-type {\n",
       "        vertical-align: middle;\n",
       "    }\n",
       "\n",
       "    .dataframe tbody tr th {\n",
       "        vertical-align: top;\n",
       "    }\n",
       "\n",
       "    .dataframe thead th {\n",
       "        text-align: right;\n",
       "    }\n",
       "</style>\n",
       "<table border=\"1\" class=\"dataframe\">\n",
       "  <thead>\n",
       "    <tr style=\"text-align: right;\">\n",
       "      <th></th>\n",
       "      <th>Review</th>\n",
       "      <th>Label</th>\n",
       "    </tr>\n",
       "  </thead>\n",
       "  <tbody>\n",
       "    <tr>\n",
       "      <th>0</th>\n",
       "      <td>Poor Quality and Sad: These wires aren't even ...</td>\n",
       "      <td>1</td>\n",
       "    </tr>\n",
       "    <tr>\n",
       "      <th>1</th>\n",
       "      <td>Marginal: I bought this for myself when it was...</td>\n",
       "      <td>1</td>\n",
       "    </tr>\n",
       "    <tr>\n",
       "      <th>2</th>\n",
       "      <td>LCG4 energy surge protector: they are bigger t...</td>\n",
       "      <td>1</td>\n",
       "    </tr>\n",
       "    <tr>\n",
       "      <th>3</th>\n",
       "      <td>Makes pulse diagnosis easy for anybody: I Real...</td>\n",
       "      <td>2</td>\n",
       "    </tr>\n",
       "    <tr>\n",
       "      <th>4</th>\n",
       "      <td>Zipper broke!!: I wanted the backpack, but non...</td>\n",
       "      <td>1</td>\n",
       "    </tr>\n",
       "    <tr>\n",
       "      <th>...</th>\n",
       "      <td>...</td>\n",
       "      <td>...</td>\n",
       "    </tr>\n",
       "    <tr>\n",
       "      <th>99995</th>\n",
       "      <td>bad bad bad...: if you pull the batteries with...</td>\n",
       "      <td>1</td>\n",
       "    </tr>\n",
       "    <tr>\n",
       "      <th>99996</th>\n",
       "      <td>You only need a little: A little goes a long w...</td>\n",
       "      <td>2</td>\n",
       "    </tr>\n",
       "    <tr>\n",
       "      <th>99997</th>\n",
       "      <td>Attention!: I have been playing AOM the last 1...</td>\n",
       "      <td>1</td>\n",
       "    </tr>\n",
       "    <tr>\n",
       "      <th>99998</th>\n",
       "      <td>Wonderful: This is not my first Sarah Waters' ...</td>\n",
       "      <td>2</td>\n",
       "    </tr>\n",
       "    <tr>\n",
       "      <th>99999</th>\n",
       "      <td>Still doing well after more than three years: ...</td>\n",
       "      <td>2</td>\n",
       "    </tr>\n",
       "  </tbody>\n",
       "</table>\n",
       "<p>100000 rows × 2 columns</p>\n",
       "</div>"
      ],
      "text/plain": [
       "                                                  Review  Label\n",
       "0      Poor Quality and Sad: These wires aren't even ...      1\n",
       "1      Marginal: I bought this for myself when it was...      1\n",
       "2      LCG4 energy surge protector: they are bigger t...      1\n",
       "3      Makes pulse diagnosis easy for anybody: I Real...      2\n",
       "4      Zipper broke!!: I wanted the backpack, but non...      1\n",
       "...                                                  ...    ...\n",
       "99995  bad bad bad...: if you pull the batteries with...      1\n",
       "99996  You only need a little: A little goes a long w...      2\n",
       "99997  Attention!: I have been playing AOM the last 1...      1\n",
       "99998  Wonderful: This is not my first Sarah Waters' ...      2\n",
       "99999  Still doing well after more than three years: ...      2\n",
       "\n",
       "[100000 rows x 2 columns]"
      ]
     },
     "execution_count": 33,
     "metadata": {},
     "output_type": "execute_result"
    }
   ],
   "source": [
    "# Another test\n",
    "test_data_2 = pd.read_csv('/home/verpen/Downloads/Datasets/Amazon_Reviews_4M/test.csv') # 400k reviews\n",
    "test_data_2 = test_data_2.sample(100000)\n",
    "test_data_2 = test_data_2.reset_index(drop=True)\n",
    "test_data_2"
   ]
  },
  {
   "cell_type": "code",
   "execution_count": 34,
   "id": "2f8f3ad0",
   "metadata": {},
   "outputs": [
    {
     "name": "stdout",
     "output_type": "stream",
     "text": [
      "Processing texts....\n",
      "Processing time: 91.35939738599882\n",
      "Transforming texts to features....\n",
      "Predicting....\n",
      "              precision    recall  f1-score   support\n",
      "\n",
      "           1       0.91      0.90      0.90     50098\n",
      "           2       0.90      0.91      0.91     49902\n",
      "\n",
      "    accuracy                           0.91    100000\n",
      "   macro avg       0.91      0.91      0.91    100000\n",
      "weighted avg       0.91      0.91      0.91    100000\n",
      "\n",
      "[[45194  4904]\n",
      " [ 4593 45309]]\n"
     ]
    },
    {
     "data": {
      "image/png": "[encoded data removed]",
      "text/plain": [
       "<Figure size 720x504 with 2 Axes>"
      ]
     },
     "metadata": {
      "needs_background": "light"
     },
     "output_type": "display_data"
    },
    {
     "name": "stdout",
     "output_type": "stream",
     "text": [
      "Unique: [1 2]\t\tCounts: [49787 50213]\n"
     ]
    },
    {
     "data": {
      "image/png": "[encoded data removed]",
      "text/plain": [
       "<Figure size 432x288 with 1 Axes>"
      ]
     },
     "metadata": {},
     "output_type": "display_data"
    }
   ],
   "source": [
    "pipeline(svm_model_linear, test_data_2)"
   ]
  },
  {
   "cell_type": "markdown",
   "id": "5df63402",
   "metadata": {},
   "source": [
    "# Model testing with IMDb Moview Reviews dataset"
   ]
  },
  {
   "cell_type": "code",
   "execution_count": 35,
   "id": "42aa46a5",
   "metadata": {},
   "outputs": [
    {
     "data": {
      "text/html": [
       "<div>\n",
       "<style scoped>\n",
       "    .dataframe tbody tr th:only-of-type {\n",
       "        vertical-align: middle;\n",
       "    }\n",
       "\n",
       "    .dataframe tbody tr th {\n",
       "        vertical-align: top;\n",
       "    }\n",
       "\n",
       "    .dataframe thead th {\n",
       "        text-align: right;\n",
       "    }\n",
       "</style>\n",
       "<table border=\"1\" class=\"dataframe\">\n",
       "  <thead>\n",
       "    <tr style=\"text-align: right;\">\n",
       "      <th></th>\n",
       "      <th>Review</th>\n",
       "      <th>Label</th>\n",
       "    </tr>\n",
       "  </thead>\n",
       "  <tbody>\n",
       "    <tr>\n",
       "      <th>0</th>\n",
       "      <td>One of the other reviewers has mentioned that ...</td>\n",
       "      <td>positive</td>\n",
       "    </tr>\n",
       "    <tr>\n",
       "      <th>1</th>\n",
       "      <td>A wonderful little production. &lt;br /&gt;&lt;br /&gt;The...</td>\n",
       "      <td>positive</td>\n",
       "    </tr>\n",
       "    <tr>\n",
       "      <th>2</th>\n",
       "      <td>I thought this was a wonderful way to spend ti...</td>\n",
       "      <td>positive</td>\n",
       "    </tr>\n",
       "    <tr>\n",
       "      <th>3</th>\n",
       "      <td>Basically there's a family where a little boy ...</td>\n",
       "      <td>negative</td>\n",
       "    </tr>\n",
       "    <tr>\n",
       "      <th>4</th>\n",
       "      <td>Petter Mattei's \"Love in the Time of Money\" is...</td>\n",
       "      <td>positive</td>\n",
       "    </tr>\n",
       "    <tr>\n",
       "      <th>...</th>\n",
       "      <td>...</td>\n",
       "      <td>...</td>\n",
       "    </tr>\n",
       "    <tr>\n",
       "      <th>49995</th>\n",
       "      <td>I thought this movie did a down right good job...</td>\n",
       "      <td>positive</td>\n",
       "    </tr>\n",
       "    <tr>\n",
       "      <th>49996</th>\n",
       "      <td>Bad plot, bad dialogue, bad acting, idiotic di...</td>\n",
       "      <td>negative</td>\n",
       "    </tr>\n",
       "    <tr>\n",
       "      <th>49997</th>\n",
       "      <td>I am a Catholic taught in parochial elementary...</td>\n",
       "      <td>negative</td>\n",
       "    </tr>\n",
       "    <tr>\n",
       "      <th>49998</th>\n",
       "      <td>I'm going to have to disagree with the previou...</td>\n",
       "      <td>negative</td>\n",
       "    </tr>\n",
       "    <tr>\n",
       "      <th>49999</th>\n",
       "      <td>No one expects the Star Trek movies to be high...</td>\n",
       "      <td>negative</td>\n",
       "    </tr>\n",
       "  </tbody>\n",
       "</table>\n",
       "<p>50000 rows × 2 columns</p>\n",
       "</div>"
      ],
      "text/plain": [
       "                                                  Review     Label\n",
       "0      One of the other reviewers has mentioned that ...  positive\n",
       "1      A wonderful little production. <br /><br />The...  positive\n",
       "2      I thought this was a wonderful way to spend ti...  positive\n",
       "3      Basically there's a family where a little boy ...  negative\n",
       "4      Petter Mattei's \"Love in the Time of Money\" is...  positive\n",
       "...                                                  ...       ...\n",
       "49995  I thought this movie did a down right good job...  positive\n",
       "49996  Bad plot, bad dialogue, bad acting, idiotic di...  negative\n",
       "49997  I am a Catholic taught in parochial elementary...  negative\n",
       "49998  I'm going to have to disagree with the previou...  negative\n",
       "49999  No one expects the Star Trek movies to be high...  negative\n",
       "\n",
       "[50000 rows x 2 columns]"
      ]
     },
     "execution_count": 35,
     "metadata": {},
     "output_type": "execute_result"
    }
   ],
   "source": [
    "movie_reviews_data = pd.read_csv('/home/verpen/Downloads/Datasets/imdb/IMDb_Moview_Reviews.zip')\n",
    "movie_reviews_data = movie_reviews_data.rename(columns={'review':'Review', \n",
    "                                                        'sentiment': 'Label'})\n",
    "movie_reviews_data"
   ]
  },
  {
   "cell_type": "code",
   "execution_count": 36,
   "id": "75ac58b4",
   "metadata": {},
   "outputs": [
    {
     "data": {
      "text/html": [
       "<div>\n",
       "<style scoped>\n",
       "    .dataframe tbody tr th:only-of-type {\n",
       "        vertical-align: middle;\n",
       "    }\n",
       "\n",
       "    .dataframe tbody tr th {\n",
       "        vertical-align: top;\n",
       "    }\n",
       "\n",
       "    .dataframe thead th {\n",
       "        text-align: right;\n",
       "    }\n",
       "</style>\n",
       "<table border=\"1\" class=\"dataframe\">\n",
       "  <thead>\n",
       "    <tr style=\"text-align: right;\">\n",
       "      <th></th>\n",
       "      <th>Review</th>\n",
       "      <th>Label</th>\n",
       "    </tr>\n",
       "  </thead>\n",
       "  <tbody>\n",
       "    <tr>\n",
       "      <th>0</th>\n",
       "      <td>One of the other reviewers has mentioned that ...</td>\n",
       "      <td>2</td>\n",
       "    </tr>\n",
       "    <tr>\n",
       "      <th>1</th>\n",
       "      <td>A wonderful little production. &lt;br /&gt;&lt;br /&gt;The...</td>\n",
       "      <td>2</td>\n",
       "    </tr>\n",
       "    <tr>\n",
       "      <th>2</th>\n",
       "      <td>I thought this was a wonderful way to spend ti...</td>\n",
       "      <td>2</td>\n",
       "    </tr>\n",
       "    <tr>\n",
       "      <th>3</th>\n",
       "      <td>Basically there's a family where a little boy ...</td>\n",
       "      <td>1</td>\n",
       "    </tr>\n",
       "    <tr>\n",
       "      <th>4</th>\n",
       "      <td>Petter Mattei's \"Love in the Time of Money\" is...</td>\n",
       "      <td>2</td>\n",
       "    </tr>\n",
       "    <tr>\n",
       "      <th>...</th>\n",
       "      <td>...</td>\n",
       "      <td>...</td>\n",
       "    </tr>\n",
       "    <tr>\n",
       "      <th>49995</th>\n",
       "      <td>I thought this movie did a down right good job...</td>\n",
       "      <td>2</td>\n",
       "    </tr>\n",
       "    <tr>\n",
       "      <th>49996</th>\n",
       "      <td>Bad plot, bad dialogue, bad acting, idiotic di...</td>\n",
       "      <td>1</td>\n",
       "    </tr>\n",
       "    <tr>\n",
       "      <th>49997</th>\n",
       "      <td>I am a Catholic taught in parochial elementary...</td>\n",
       "      <td>1</td>\n",
       "    </tr>\n",
       "    <tr>\n",
       "      <th>49998</th>\n",
       "      <td>I'm going to have to disagree with the previou...</td>\n",
       "      <td>1</td>\n",
       "    </tr>\n",
       "    <tr>\n",
       "      <th>49999</th>\n",
       "      <td>No one expects the Star Trek movies to be high...</td>\n",
       "      <td>1</td>\n",
       "    </tr>\n",
       "  </tbody>\n",
       "</table>\n",
       "<p>50000 rows × 2 columns</p>\n",
       "</div>"
      ],
      "text/plain": [
       "                                                  Review  Label\n",
       "0      One of the other reviewers has mentioned that ...      2\n",
       "1      A wonderful little production. <br /><br />The...      2\n",
       "2      I thought this was a wonderful way to spend ti...      2\n",
       "3      Basically there's a family where a little boy ...      1\n",
       "4      Petter Mattei's \"Love in the Time of Money\" is...      2\n",
       "...                                                  ...    ...\n",
       "49995  I thought this movie did a down right good job...      2\n",
       "49996  Bad plot, bad dialogue, bad acting, idiotic di...      1\n",
       "49997  I am a Catholic taught in parochial elementary...      1\n",
       "49998  I'm going to have to disagree with the previou...      1\n",
       "49999  No one expects the Star Trek movies to be high...      1\n",
       "\n",
       "[50000 rows x 2 columns]"
      ]
     },
     "execution_count": 36,
     "metadata": {},
     "output_type": "execute_result"
    }
   ],
   "source": [
    "movie_reviews_data['Label'] = movie_reviews_data['Label'].apply(lambda x: 2 if x == 'positive' else 1)\n",
    "movie_reviews_data"
   ]
  },
  {
   "cell_type": "code",
   "execution_count": 37,
   "id": "5ea9b256",
   "metadata": {},
   "outputs": [
    {
     "name": "stdout",
     "output_type": "stream",
     "text": [
      "Processing texts....\n",
      "Processing time: 118.35572731600041\n",
      "Transforming texts to features....\n",
      "Predicting....\n",
      "              precision    recall  f1-score   support\n",
      "\n",
      "           1       0.85      0.90      0.87     25000\n",
      "           2       0.89      0.84      0.87     25000\n",
      "\n",
      "    accuracy                           0.87     50000\n",
      "   macro avg       0.87      0.87      0.87     50000\n",
      "weighted avg       0.87      0.87      0.87     50000\n",
      "\n",
      "[[22390  2610]\n",
      " [ 3953 21047]]\n"
     ]
    },
    {
     "data": {
      "image/png": "[encoded data removed]",
      "text/plain": [
       "<Figure size 720x504 with 2 Axes>"
      ]
     },
     "metadata": {
      "needs_background": "light"
     },
     "output_type": "display_data"
    },
    {
     "name": "stdout",
     "output_type": "stream",
     "text": [
      "Unique: [1 2]\t\tCounts: [26343 23657]\n"
     ]
    },
    {
     "data": {
      "image/png": "[encoded data removed]",
      "text/plain": [
       "<Figure size 432x288 with 1 Axes>"
      ]
     },
     "metadata": {},
     "output_type": "display_data"
    }
   ],
   "source": [
    "pipeline(svm_model_linear, movie_reviews_data)"
   ]
  }
 ],
 "metadata": {
  "kernelspec": {
   "display_name": "Python 3 (ipykernel)",
   "language": "python",
   "name": "python3"
  },
  "language_info": {
   "codemirror_mode": {
    "name": "ipython",
    "version": 3
   },
   "file_extension": ".py",
   "mimetype": "text/x-python",
   "name": "python",
   "nbconvert_exporter": "python",
   "pygments_lexer": "ipython3",
   "version": "3.9.7"
  }
 },
 "nbformat": 4,
 "nbformat_minor": 5
}
