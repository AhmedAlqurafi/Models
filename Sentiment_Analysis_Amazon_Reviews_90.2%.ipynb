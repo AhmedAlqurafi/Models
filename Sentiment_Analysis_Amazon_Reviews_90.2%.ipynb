{
 "cells": [
  {
   "cell_type": "code",
   "execution_count": 1,
   "id": "042f9adb",
   "metadata": {},
   "outputs": [
    {
     "name": "stdout",
     "output_type": "stream",
     "text": [
      "Defaulting to user installation because normal site-packages is not writeable\n",
      "Requirement already satisfied: spacy in /home/verpen/.local/lib/python3.8/site-packages (3.4.1)\n",
      "Requirement already satisfied: langcodes<4.0.0,>=3.2.0 in /home/verpen/.local/lib/python3.8/site-packages (from spacy) (3.3.0)\n",
      "Requirement already satisfied: catalogue<2.1.0,>=2.0.6 in /home/verpen/.local/lib/python3.8/site-packages (from spacy) (2.0.8)\n",
      "Requirement already satisfied: wasabi<1.1.0,>=0.9.1 in /home/verpen/.local/lib/python3.8/site-packages (from spacy) (0.10.1)\n",
      "Requirement already satisfied: spacy-legacy<3.1.0,>=3.0.9 in /home/verpen/.local/lib/python3.8/site-packages (from spacy) (3.0.10)\n",
      "Requirement already satisfied: srsly<3.0.0,>=2.4.3 in /home/verpen/.local/lib/python3.8/site-packages (from spacy) (2.4.4)\n",
      "Requirement already satisfied: pathy>=0.3.5 in /home/verpen/.local/lib/python3.8/site-packages (from spacy) (0.6.2)\n",
      "Requirement already satisfied: thinc<8.2.0,>=8.1.0 in /home/verpen/.local/lib/python3.8/site-packages (from spacy) (8.1.0)\n",
      "Requirement already satisfied: packaging>=20.0 in /home/verpen/.local/lib/python3.8/site-packages (from spacy) (21.3)\n",
      "Requirement already satisfied: typer<0.5.0,>=0.3.0 in /home/verpen/.local/lib/python3.8/site-packages (from spacy) (0.4.2)\n",
      "Requirement already satisfied: jinja2 in /home/verpen/.local/lib/python3.8/site-packages (from spacy) (3.1.2)\n",
      "Requirement already satisfied: requests<3.0.0,>=2.13.0 in /home/verpen/.local/lib/python3.8/site-packages (from spacy) (2.28.1)\n",
      "Requirement already satisfied: cymem<2.1.0,>=2.0.2 in /home/verpen/.local/lib/python3.8/site-packages (from spacy) (2.0.6)\n",
      "Requirement already satisfied: preshed<3.1.0,>=3.0.2 in /home/verpen/.local/lib/python3.8/site-packages (from spacy) (3.0.7)\n",
      "Requirement already satisfied: spacy-loggers<2.0.0,>=1.0.0 in /home/verpen/.local/lib/python3.8/site-packages (from spacy) (1.0.3)\n",
      "Requirement already satisfied: numpy>=1.15.0 in /home/verpen/.local/lib/python3.8/site-packages (from spacy) (1.22.3)\n",
      "Requirement already satisfied: pydantic!=1.8,!=1.8.1,<1.10.0,>=1.7.4 in /home/verpen/.local/lib/python3.8/site-packages (from spacy) (1.9.2)\n",
      "Requirement already satisfied: setuptools in /usr/lib/python3/dist-packages (from spacy) (45.2.0)\n",
      "Requirement already satisfied: murmurhash<1.1.0,>=0.28.0 in /home/verpen/.local/lib/python3.8/site-packages (from spacy) (1.0.8)\n",
      "Requirement already satisfied: tqdm<5.0.0,>=4.38.0 in /home/verpen/.local/lib/python3.8/site-packages (from spacy) (4.63.0)\n",
      "Requirement already satisfied: pyparsing!=3.0.5,>=2.0.2 in /home/verpen/.local/lib/python3.8/site-packages (from packaging>=20.0->spacy) (3.0.9)\n",
      "Requirement already satisfied: smart-open<6.0.0,>=5.2.1 in /home/verpen/.local/lib/python3.8/site-packages (from pathy>=0.3.5->spacy) (5.2.1)\n",
      "Requirement already satisfied: typing-extensions>=3.7.4.3 in /home/verpen/.local/lib/python3.8/site-packages (from pydantic!=1.8,!=1.8.1,<1.10.0,>=1.7.4->spacy) (4.3.0)\n",
      "Requirement already satisfied: urllib3<1.27,>=1.21.1 in /usr/lib/python3/dist-packages (from requests<3.0.0,>=2.13.0->spacy) (1.25.8)\n",
      "Requirement already satisfied: idna<4,>=2.5 in /usr/lib/python3/dist-packages (from requests<3.0.0,>=2.13.0->spacy) (2.8)\n",
      "Requirement already satisfied: charset-normalizer<3,>=2 in /home/verpen/.local/lib/python3.8/site-packages (from requests<3.0.0,>=2.13.0->spacy) (2.1.0)\n",
      "Requirement already satisfied: certifi>=2017.4.17 in /usr/lib/python3/dist-packages (from requests<3.0.0,>=2.13.0->spacy) (2019.11.28)\n",
      "Requirement already satisfied: blis<0.8.0,>=0.7.8 in /home/verpen/.local/lib/python3.8/site-packages (from thinc<8.2.0,>=8.1.0->spacy) (0.7.8)\n",
      "Requirement already satisfied: click<9.0.0,>=7.1.1 in /home/verpen/.local/lib/python3.8/site-packages (from typer<0.5.0,>=0.3.0->spacy) (8.1.3)\n",
      "Requirement already satisfied: MarkupSafe>=2.0 in /home/verpen/.local/lib/python3.8/site-packages (from jinja2->spacy) (2.1.1)\n"
     ]
    }
   ],
   "source": [
    "# spacy will be used for lemmatization and stop words removal it's better than nltk\n",
    "!pip install spacy"
   ]
  },
  {
   "cell_type": "code",
   "execution_count": 22,
   "id": "3946a51b",
   "metadata": {},
   "outputs": [],
   "source": [
    "# Data analysis \n",
    "import pandas as pd\n",
    "\n",
    "# Data plotting\n",
    "import matplotlib.pyplot as plt\n",
    "import seaborn as sn\n",
    "\n",
    "# Text analysis\n",
    "import re\n",
    "import spacy\n",
    "from spacy.lang.en.stop_words import STOP_WORDS\n",
    "import emoji\n",
    "import emot\n",
    "import contractions\n",
    "import string\n",
    "import nltk\n",
    "from nltk.stem import SnowballStemmer \n",
    "from nltk.tokenize import word_tokenize\n",
    "\n",
    "# Modeling\n",
    "from sklearn.feature_extraction.text import TfidfVectorizer\n",
    "from sklearn.model_selection import train_test_split, cross_val_score\n",
    "from sklearn.linear_model import LogisticRegression\n",
    "from sklearn.svm import SVC\n",
    "from sklearn.tree import DecisionTreeClassifier\n",
    "from sklearn.ensemble import RandomForestClassifier\n",
    "from sklearn.metrics import accuracy_score, confusion_matrix, classification_report\n",
    "\n",
    "# Save model\n",
    "import joblib\n",
    "\n",
    "import time"
   ]
  },
  {
   "cell_type": "markdown",
   "id": "baba7923",
   "metadata": {},
   "source": [
    "# Loading data"
   ]
  },
  {
   "cell_type": "code",
   "execution_count": 61,
   "id": "d11079ab",
   "metadata": {},
   "outputs": [],
   "source": [
    "reviews = pd.read_csv('/home/verpen/Downloads/Datasets/Amazon_Reviews_4M/train.csv')"
   ]
  },
  {
   "cell_type": "code",
   "execution_count": 62,
   "id": "d12c0940",
   "metadata": {},
   "outputs": [
    {
     "data": {
      "text/html": [
       "<div>\n",
       "<style scoped>\n",
       "    .dataframe tbody tr th:only-of-type {\n",
       "        vertical-align: middle;\n",
       "    }\n",
       "\n",
       "    .dataframe tbody tr th {\n",
       "        vertical-align: top;\n",
       "    }\n",
       "\n",
       "    .dataframe thead th {\n",
       "        text-align: right;\n",
       "    }\n",
       "</style>\n",
       "<table border=\"1\" class=\"dataframe\">\n",
       "  <thead>\n",
       "    <tr style=\"text-align: right;\">\n",
       "      <th></th>\n",
       "      <th>Review</th>\n",
       "      <th>Label</th>\n",
       "    </tr>\n",
       "  </thead>\n",
       "  <tbody>\n",
       "    <tr>\n",
       "      <th>0</th>\n",
       "      <td>Stuning even for the non-gamer: This sound tra...</td>\n",
       "      <td>2</td>\n",
       "    </tr>\n",
       "    <tr>\n",
       "      <th>1</th>\n",
       "      <td>The best soundtrack ever to anything.: I'm rea...</td>\n",
       "      <td>2</td>\n",
       "    </tr>\n",
       "    <tr>\n",
       "      <th>2</th>\n",
       "      <td>Amazing!: This soundtrack is my favorite music...</td>\n",
       "      <td>2</td>\n",
       "    </tr>\n",
       "    <tr>\n",
       "      <th>3</th>\n",
       "      <td>Excellent Soundtrack: I truly like this soundt...</td>\n",
       "      <td>2</td>\n",
       "    </tr>\n",
       "    <tr>\n",
       "      <th>4</th>\n",
       "      <td>Remember, Pull Your Jaw Off The Floor After He...</td>\n",
       "      <td>2</td>\n",
       "    </tr>\n",
       "    <tr>\n",
       "      <th>...</th>\n",
       "      <td>...</td>\n",
       "      <td>...</td>\n",
       "    </tr>\n",
       "    <tr>\n",
       "      <th>3599995</th>\n",
       "      <td>Don't do it!!: The high chair looks great when...</td>\n",
       "      <td>1</td>\n",
       "    </tr>\n",
       "    <tr>\n",
       "      <th>3599996</th>\n",
       "      <td>Looks nice, low functionality: I have used thi...</td>\n",
       "      <td>1</td>\n",
       "    </tr>\n",
       "    <tr>\n",
       "      <th>3599997</th>\n",
       "      <td>compact, but hard to clean: We have a small ho...</td>\n",
       "      <td>1</td>\n",
       "    </tr>\n",
       "    <tr>\n",
       "      <th>3599998</th>\n",
       "      <td>what is it saying?: not sure what this book is...</td>\n",
       "      <td>1</td>\n",
       "    </tr>\n",
       "    <tr>\n",
       "      <th>3599999</th>\n",
       "      <td>Makes My Blood Run Red-White-And-Blue: I agree...</td>\n",
       "      <td>2</td>\n",
       "    </tr>\n",
       "  </tbody>\n",
       "</table>\n",
       "<p>3600000 rows × 2 columns</p>\n",
       "</div>"
      ],
      "text/plain": [
       "                                                    Review  Label\n",
       "0        Stuning even for the non-gamer: This sound tra...      2\n",
       "1        The best soundtrack ever to anything.: I'm rea...      2\n",
       "2        Amazing!: This soundtrack is my favorite music...      2\n",
       "3        Excellent Soundtrack: I truly like this soundt...      2\n",
       "4        Remember, Pull Your Jaw Off The Floor After He...      2\n",
       "...                                                    ...    ...\n",
       "3599995  Don't do it!!: The high chair looks great when...      1\n",
       "3599996  Looks nice, low functionality: I have used thi...      1\n",
       "3599997  compact, but hard to clean: We have a small ho...      1\n",
       "3599998  what is it saying?: not sure what this book is...      1\n",
       "3599999  Makes My Blood Run Red-White-And-Blue: I agree...      2\n",
       "\n",
       "[3600000 rows x 2 columns]"
      ]
     },
     "execution_count": 62,
     "metadata": {},
     "output_type": "execute_result"
    }
   ],
   "source": [
    "reviews"
   ]
  },
  {
   "cell_type": "markdown",
   "id": "fd27b7d3",
   "metadata": {},
   "source": [
    "# Data analysis\n"
   ]
  },
  {
   "cell_type": "markdown",
   "id": "2b893922",
   "metadata": {},
   "source": [
    "### Analysis of the dataset"
   ]
  },
  {
   "cell_type": "code",
   "execution_count": 63,
   "id": "17ca25d7",
   "metadata": {},
   "outputs": [
    {
     "data": {
      "text/plain": [
       "2    1800000\n",
       "1    1800000\n",
       "Name: Label, dtype: int64"
      ]
     },
     "execution_count": 63,
     "metadata": {},
     "output_type": "execute_result"
    }
   ],
   "source": [
    "reviews['Label'].value_counts()"
   ]
  },
  {
   "cell_type": "code",
   "execution_count": 66,
   "id": "3becbb47",
   "metadata": {},
   "outputs": [],
   "source": [
    "# Choose a random subset from the dataset with equal number of \n",
    "# positive and negative tweets\n",
    "subset = 50000\n",
    "pos_subset = reviews[reviews['Label'] == 2].sample(subset)\n",
    "neg_subset = reviews[reviews['Label'] == 1].sample(subset)\n",
    "\n",
    "modified_data = pd.concat([pos_subset, neg_subset])"
   ]
  },
  {
   "cell_type": "code",
   "execution_count": 7,
   "id": "ba536ac7",
   "metadata": {},
   "outputs": [],
   "source": [
    "# modified_data.to_csv('/home/verpen/Downloads/Datasets/Amazon_Review_100k.csv')\n",
    "modified_data = pd.read_csv('/home/verpen/Downloads/Datasets/Amazon_Review_100k.csv')"
   ]
  },
  {
   "cell_type": "code",
   "execution_count": 8,
   "id": "80200f27",
   "metadata": {},
   "outputs": [
    {
     "data": {
      "text/html": [
       "<div>\n",
       "<style scoped>\n",
       "    .dataframe tbody tr th:only-of-type {\n",
       "        vertical-align: middle;\n",
       "    }\n",
       "\n",
       "    .dataframe tbody tr th {\n",
       "        vertical-align: top;\n",
       "    }\n",
       "\n",
       "    .dataframe thead th {\n",
       "        text-align: right;\n",
       "    }\n",
       "</style>\n",
       "<table border=\"1\" class=\"dataframe\">\n",
       "  <thead>\n",
       "    <tr style=\"text-align: right;\">\n",
       "      <th></th>\n",
       "      <th>Unnamed: 0</th>\n",
       "      <th>Review</th>\n",
       "      <th>Label</th>\n",
       "      <th>Tokens</th>\n",
       "      <th>String_tokens</th>\n",
       "    </tr>\n",
       "  </thead>\n",
       "  <tbody>\n",
       "    <tr>\n",
       "      <th>23948</th>\n",
       "      <td>23948</td>\n",
       "      <td>Always a good read. Nice to have it on Kindle....</td>\n",
       "      <td>2</td>\n",
       "      <td>['good', 'read', 'nice', 'kindl', 'good', 'ins...</td>\n",
       "      <td>good read nice kindl good insight dickson dors...</td>\n",
       "    </tr>\n",
       "    <tr>\n",
       "      <th>66975</th>\n",
       "      <td>66975</td>\n",
       "      <td>Seriously?: I saw the other reviews for this a...</td>\n",
       "      <td>1</td>\n",
       "      <td>['serious', 'saw', 'review', 'not', 'believ', ...</td>\n",
       "      <td>serious saw review not believ spin doctor wors...</td>\n",
       "    </tr>\n",
       "    <tr>\n",
       "      <th>40884</th>\n",
       "      <td>40884</td>\n",
       "      <td>This is a wonderful collection of songs: I was...</td>\n",
       "      <td>2</td>\n",
       "      <td>['wonder', 'collect', 'song', 'given', 'gift',...</td>\n",
       "      <td>wonder collect song given gift enjoy long time...</td>\n",
       "    </tr>\n",
       "    <tr>\n",
       "      <th>73854</th>\n",
       "      <td>73854</td>\n",
       "      <td>Not A Workout Video: I was looking for a dance...</td>\n",
       "      <td>1</td>\n",
       "      <td>['not', 'workout', 'video', 'look', 'danc', 't...</td>\n",
       "      <td>not workout video look danc type workout video...</td>\n",
       "    </tr>\n",
       "    <tr>\n",
       "      <th>35079</th>\n",
       "      <td>35079</td>\n",
       "      <td>C + Bio-Fizz is Awesome: I love this product, ...</td>\n",
       "      <td>2</td>\n",
       "      <td>['bio', 'fizz', 'awesom', 'love', 'product', '...</td>\n",
       "      <td>bio fizz awesom love product not up charg orde...</td>\n",
       "    </tr>\n",
       "  </tbody>\n",
       "</table>\n",
       "</div>"
      ],
      "text/plain": [
       "       Unnamed: 0                                             Review  Label  \\\n",
       "23948       23948  Always a good read. Nice to have it on Kindle....      2   \n",
       "66975       66975  Seriously?: I saw the other reviews for this a...      1   \n",
       "40884       40884  This is a wonderful collection of songs: I was...      2   \n",
       "73854       73854  Not A Workout Video: I was looking for a dance...      1   \n",
       "35079       35079  C + Bio-Fizz is Awesome: I love this product, ...      2   \n",
       "\n",
       "                                                  Tokens  \\\n",
       "23948  ['good', 'read', 'nice', 'kindl', 'good', 'ins...   \n",
       "66975  ['serious', 'saw', 'review', 'not', 'believ', ...   \n",
       "40884  ['wonder', 'collect', 'song', 'given', 'gift',...   \n",
       "73854  ['not', 'workout', 'video', 'look', 'danc', 't...   \n",
       "35079  ['bio', 'fizz', 'awesom', 'love', 'product', '...   \n",
       "\n",
       "                                           String_tokens  \n",
       "23948  good read nice kindl good insight dickson dors...  \n",
       "66975  serious saw review not believ spin doctor wors...  \n",
       "40884  wonder collect song given gift enjoy long time...  \n",
       "73854  not workout video look danc type workout video...  \n",
       "35079  bio fizz awesom love product not up charg orde...  "
      ]
     },
     "execution_count": 8,
     "metadata": {},
     "output_type": "execute_result"
    }
   ],
   "source": [
    "modified_data.sample(5)"
   ]
  },
  {
   "cell_type": "markdown",
   "id": "294d811c",
   "metadata": {},
   "source": [
    "# Data Preprocessing"
   ]
  },
  {
   "cell_type": "code",
   "execution_count": 68,
   "id": "89ed0d4d",
   "metadata": {},
   "outputs": [],
   "source": [
    "abbreviations = {\n",
    "    \"$\" : \" dollar \",\n",
    "    \"€\" : \" euro \",\n",
    "    \"4ao\" : \"for adults only\",\n",
    "    \"1st\" : \"first\", \n",
    "    \"2nd\" : \"second\", \n",
    "    \"3rd\" : \"third\",\n",
    "    \"a.m\" : \"before midday\",\n",
    "    \"a3\" : \"anytime anywhere anyplace\",\n",
    "    \"aamof\" : \"as a matter of fact\",\n",
    "    \"acct\" : \"account\",\n",
    "    \"adih\" : \"another day in hell\",\n",
    "    \"afaic\" : \"as far as i am concerned\",\n",
    "    \"afaict\" : \"as far as i can tell\",\n",
    "    \"afaik\" : \"as far as i know\",\n",
    "    \"afair\" : \"as far as i remember\",\n",
    "    \"afk\" : \"away from keyboard\",\n",
    "    \"app\" : \"application\",\n",
    "    \"approx\" : \"approximately\",\n",
    "    \"apps\" : \"applications\",\n",
    "    \"asap\" : \"as soon as possible\",\n",
    "    \"asl\" : \"age, sex, location\",\n",
    "    \"atk\" : \"at the keyboard\",\n",
    "    \"ave.\" : \"avenue\",\n",
    "    \"aymm\" : \"are you my mother\",\n",
    "    \"ayor\" : \"at your own risk\", \n",
    "    \"b&b\" : \"bed and breakfast\",\n",
    "    \"b+b\" : \"bed and breakfast\",\n",
    "    \"b.c\" : \"before christ\",\n",
    "    \"b2b\" : \"business to business\",\n",
    "    \"b2c\" : \"business to customer\",\n",
    "    \"b4\" : \"before\",\n",
    "    \"b4n\" : \"bye for now\",\n",
    "    \"b@u\" : \"back at you\",\n",
    "    \"bae\" : \"before anyone else\",\n",
    "    \"bak\" : \"back at keyboard\",\n",
    "    \"bbbg\" : \"bye bye be good\",\n",
    "    \"bbc\" : \"british broadcasting corporation\",\n",
    "    \"bbias\" : \"be back in a second\",\n",
    "    \"bbl\" : \"be back later\",\n",
    "    \"bbs\" : \"be back soon\",\n",
    "    \"be4\" : \"before\",\n",
    "    \"bfn\" : \"bye for now\",\n",
    "    \"blvd\" : \"boulevard\",\n",
    "    \"bout\" : \"about\",\n",
    "    \"brb\" : \"be right back\",\n",
    "    \"bros\" : \"brothers\",\n",
    "    \"brt\" : \"be right there\",\n",
    "    \"bsaaw\" : \"big smile and a wink\",\n",
    "    \"btw\" : \"by the way\",\n",
    "    \"bwl\" : \"bursting with laughter\",\n",
    "    \"canx\" : \"cancel\",\n",
    "    \"c/o\" : \"care of\",\n",
    "    \"cet\" : \"central european time\",\n",
    "    \"cf\" : \"compare\",\n",
    "    \"cia\" : \"central intelligence agency\",\n",
    "    \"csl\" : \"can not stop laughing\",\n",
    "    \"cu\" : \"see you\",\n",
    "    \"cul8r\" : \"see you later\",\n",
    "    \"cv\" : \"curriculum vitae\",\n",
    "    \"cwot\" : \"complete waste of time\",\n",
    "    \"cya\" : \"see you\",\n",
    "    \"cyt\" : \"see you tomorrow\",\n",
    "    \"dae\" : \"does anyone else\",\n",
    "    \"dbmib\" : \"do not bother me i am busy\",\n",
    "    \"diy\" : \"do it yourself\",\n",
    "    \"dm\" : \"direct message\",\n",
    "    \"dnt\" : \"don't\",\n",
    "    \"dwh\" : \"during work hours\",\n",
    "    \"e123\" : \"easy as one two three\",\n",
    "    \"eet\" : \"eastern european time\",\n",
    "    \"eg\" : \"example\",\n",
    "    \"embm\" : \"early morning business meeting\",\n",
    "    \"emerg\" : \"emergency\",\n",
    "    \"encl\" : \"enclosed\",\n",
    "    \"encl.\" : \"enclosed\",\n",
    "    \"etc\" : \"and so on\",\n",
    "    \"faq\" : \"frequently asked questions\",\n",
    "    \"fawc\" : \"for anyone who cares\",\n",
    "    \"fb\" : \"facebook\",\n",
    "    \"fc\" : \"fingers crossed\",\n",
    "    \"fig\" : \"figure\",\n",
    "    \"fimh\" : \"forever in my heart\", \n",
    "    \"ft.\" : \"feet\",\n",
    "    \"ft\" : \"featuring\",\n",
    "    \"ftl\" : \"for the loss\",\n",
    "    \"ftw\" : \"for the win\",\n",
    "    \"fwiw\" : \"for what it is worth\",\n",
    "    \"fyi\" : \"for your information\",\n",
    "    \"g9\" : \"genius\",\n",
    "    \"gahoy\" : \"get a hold of yourself\",\n",
    "    \"gal\" : \"get a life\",\n",
    "    \"gcse\" : \"general certificate of secondary education\",\n",
    "    \"gfn\" : \"gone for now\",\n",
    "    \"gg\" : \"good game\",\n",
    "    \"gl\" : \"good luck\",\n",
    "    \"glhf\" : \"good luck have fun\",\n",
    "    \"gmt\" : \"greenwich mean time\",\n",
    "    \"gmta\" : \"great minds think alike\",\n",
    "    \"gn\" : \"good night\",\n",
    "    \"g.o.a.t\" : \"greatest of all time\",\n",
    "    \"goat\" : \"greatest of all time\",\n",
    "    \"goi\" : \"get over it\",\n",
    "    \"gps\" : \"global positioning system\",\n",
    "    \"gr8\" : \"great\",\n",
    "    \"gratz\" : \"congratulations\",\n",
    "    \"gyal\" : \"girl\",\n",
    "    \"haha\" : \"laugh\", \n",
    "    \"hahaha\" : \"laugh\", \n",
    "    \"hehe\" : \"laugh\", \n",
    "    \"h&c\" : \"hot and cold\",\n",
    "    \"hp\" : \"horsepower\",\n",
    "    \"hr\" : \"hour\",\n",
    "    \"hrs\" : \"hour\",\n",
    "    \"hrh\" : \"his royal highness\",    \n",
    "    \"ht\" : \"height\",\n",
    "    \"ibrb\" : \"i will be right back\",\n",
    "    \"ic\" : \"i see\",\n",
    "    \"icq\" : \"i seek you\",\n",
    "    \"icymi\" : \"in case you missed it\",\n",
    "    \"idc\" : \"i do not care\",\n",
    "    \"idgadf\" : \"i do not give a damn fuck\",\n",
    "    \"idgaf\" : \"i do not give a fuck\",\n",
    "    \"idk\" : \"i do not know\",\n",
    "    \"ie\" : \"that is\",\n",
    "    \"i.e\" : \"that is\",\n",
    "    \"ifyp\" : \"i feel your pain\",\n",
    "    \"IG\" : \"instagram\",\n",
    "    \"iirc\" : \"if i remember correctly\",\n",
    "    \"ilu\" : \"i love you\",\n",
    "    \"ily\" : \"i love you\",\n",
    "    \"imho\" : \"in my humble opinion\",\n",
    "    \"imo\" : \"in my opinion\",\n",
    "    \"imu\" : \"i miss you\",\n",
    "    \"iow\" : \"in other words\",\n",
    "    \"irl\" : \"in real life\",\n",
    "    \"j4f\" : \"just for fun\",\n",
    "    \"jic\" : \"just in case\",\n",
    "    \"jk\" : \"just kidding\",\n",
    "    \"jsyk\" : \"just so you know\",\n",
    "    \"l8r\" : \"later\",\n",
    "    \"lb\" : \"pound\",\n",
    "    \"lbs\" : \"pounds\",\n",
    "    \"ldr\" : \"long distance relationship\",\n",
    "    \"lmao\" : \"laugh my ass off\",\n",
    "    \"lmfao\" : \"laugh my fucking ass off\",\n",
    "    \"lol\" : \"laughing out loud\",\n",
    "    \"ltd\" : \"limited\",\n",
    "    \"ltns\" : \"long time no see\",\n",
    "    \"m8\" : \"mate\",\n",
    "    \"mf\" : \"motherfucker\",\n",
    "    \"mfs\" : \"motherfuckers\",\n",
    "    \"mfw\" : \"my face when\",\n",
    "    \"mofo\" : \"motherfucker\",\n",
    "    \"mph\" : \"miles per hour\",\n",
    "    \"mr\" : \"mister\",\n",
    "    \"mrw\" : \"my reaction when\",\n",
    "    \"ms\" : \"miss\",\n",
    "    \"mte\" : \"my thoughts exactly\",\n",
    "    \"nagi\" : \"not a good idea\",\n",
    "    \"nbc\" : \"national broadcasting company\",\n",
    "    \"nbd\" : \"not big deal\",\n",
    "    \"nfs\" : \"not for sale\",\n",
    "    \"ngl\" : \"not going to lie\",\n",
    "    \"nhs\" : \"national health service\",\n",
    "    \"nrn\" : \"no reply necessary\",\n",
    "    \"nsfl\" : \"not safe for life\",\n",
    "    \"nsfw\" : \"not safe for work\",\n",
    "    \"nth\" : \"nice to have\",\n",
    "    \"nvr\" : \"never\",\n",
    "    \"nyc\" : \"new york city\",\n",
    "    \"oc\" : \"original content\",\n",
    "    \"og\" : \"original\",\n",
    "    \"ohp\" : \"overhead projector\",\n",
    "    \"oic\" : \"oh i see\",\n",
    "    \"omdb\" : \"over my dead body\",\n",
    "    \"omg\" : \"oh my god\",\n",
    "    \"omw\" : \"on my way\",\n",
    "    \"p.a\" : \"per annum\",\n",
    "    \"p.m\" : \"after midday\",\n",
    "    \"pls\" : \"please\",\n",
    "    \"plz\" : \"please\",\n",
    "    \"pm\" : \"prime minister\",\n",
    "    \"poc\" : \"people of color\",\n",
    "    \"pov\" : \"point of view\",\n",
    "    \"pp\" : \"pages\",\n",
    "    \"ppl\" : \"people\",\n",
    "    \"prw\" : \"parents are watching\",\n",
    "    \"ps\" : \"postscript\",\n",
    "    \"pt\" : \"point\",\n",
    "    \"ptb\" : \"please text back\",\n",
    "    \"pto\" : \"please turn over\",\n",
    "    \"qpsa\" : \"what happens\", #\"que pasa\",\n",
    "    \"ratchet\" : \"rude\",\n",
    "    \"rbtl\" : \"read between the lines\",\n",
    "    \"rite\" : \"right\",\n",
    "    \"rlrt\" : \"real life retweet\", \n",
    "    \"rofl\" : \"rolling on the floor laughing\",\n",
    "    \"roflol\" : \"rolling on the floor laughing out loud\",\n",
    "    \"rotflmao\" : \"rolling on the floor laughing my ass off\",\n",
    "    \"rt\" : \"retweet\",\n",
    "    \"ruok\" : \"are you ok\",\n",
    "    \"sfw\" : \"safe for work\",\n",
    "    \"sk8\" : \"skate\",\n",
    "    \"smh\" : \"shake my head\",\n",
    "    \"sry\" : \"sorry\",\n",
    "    \"sq\" : \"square\",\n",
    "    \"srsly\" : \"seriously\", \n",
    "    \"ssdd\" : \"same stuff different day\",\n",
    "    \"tbh\" : \"to be honest\",\n",
    "    \"tbs\" : \"tablespooful\",\n",
    "    \"tbsp\" : \"tablespooful\",\n",
    "    \"tfw\" : \"that feeling when\",\n",
    "    \"thank\" : \"thank\",\n",
    "    \"thanks\" : \"thank\",\n",
    "    \"thks\" : \"thank\",\n",
    "    \"tho\" : \"though\",\n",
    "    \"thx\" : \"thank\",\n",
    "    \"tia\" : \"thanks in advance\",\n",
    "    \"til\" : \"until\",\n",
    "    \"tl;dr\" : \"too long i did not read\",\n",
    "    \"tldr\" : \"too long i did not read\",\n",
    "    \"tmb\" : \"tweet me back\",\n",
    "    \"tntl\" : \"trying not to laugh\",\n",
    "    \"ttyl\" : \"talk to you later\",\n",
    "    \"u\" : \"you\",\n",
    "    \"u2\" : \"you too\",\n",
    "    \"u4e\" : \"yours for ever\",\n",
    "    \"utc\" : \"coordinated universal time\",\n",
    "    \"us\" : \"united states\",\n",
    "    \"usa\" : \"united states\",\n",
    "    \"w/\" : \"with\",\n",
    "    \"w/o\" : \"without\",\n",
    "    \"w8\" : \"wait\",\n",
    "    \"wassup\" : \"what is up\",\n",
    "    \"wb\" : \"welcome back\",\n",
    "    \"wtf\" : \"what the fuck\",\n",
    "    \"wtg\" : \"way to go\",\n",
    "    \"wtpa\" : \"where the party at\",\n",
    "    \"wuf\" : \"where are you from\",\n",
    "    \"wuzup\" : \"what is up\",\n",
    "    \"wywh\" : \"wish you were here\",\n",
    "    \"ya\" : \"you\",\n",
    "    \"yd\" : \"yard\",\n",
    "    \"ygtr\" : \"you got that right\",\n",
    "    \"ynk\" : \"you never know\",\n",
    "    \"zzz\" : \"sleeping bored and tired\"\n",
    "}\n",
    "\n",
    "# This abbreviation list is by @nmaguette from Kaggle"
   ]
  },
  {
   "cell_type": "code",
   "execution_count": 69,
   "id": "8992faf9",
   "metadata": {},
   "outputs": [],
   "source": [
    "def expand_abbreviation(text):\n",
    "    \"\"\" This function takes an abbreviated string\n",
    "        and returns the expanded version with whitespace \n",
    "        replaced by underscore \"\"\"\n",
    "    \n",
    "    expanded_abbr = ''\n",
    "    expanded_text = ''\n",
    "    for word in text:\n",
    "        expanded_abbr = word\n",
    "        if word in abbreviations: \n",
    "            expanded_abbr = abbreviations[word]\n",
    "            expanded_abbr = expanded_abbr.replace(' ', '_')          \n",
    "        \n",
    "        expanded_text = expanded_text + expanded_abbr + \" \"\n",
    "    \n",
    "    return expanded_text"
   ]
  },
  {
   "cell_type": "code",
   "execution_count": 70,
   "id": "a3f019d4",
   "metadata": {},
   "outputs": [],
   "source": [
    "emot_obj = emot.core.emot()  "
   ]
  },
  {
   "cell_type": "code",
   "execution_count": 71,
   "id": "4df03fac",
   "metadata": {},
   "outputs": [],
   "source": [
    "def emoj_emot_to_text(text):\n",
    "    \"\"\" This function converts emojis and emoticons to corresponding text \"\"\"\n",
    "    \n",
    "    # Emoticons  \n",
    "    emoticons_list = emot_obj.emoticons(text)['mean']\n",
    "    for emoticon in emoticons_list: \n",
    "        emoticon = emoticon.replace(', ', ' ')\n",
    "        emoticon = emoticon.replace(' ', '_')\n",
    "        text = text + emoticon + \" \"       \n",
    "    \n",
    "    \n",
    "    # Emojis\n",
    "    text = emoji.demojize(text) \n",
    "    text = re.sub(':', '', text)\n",
    "    return text"
   ]
  },
  {
   "cell_type": "code",
   "execution_count": 83,
   "id": "76911d15",
   "metadata": {},
   "outputs": [],
   "source": [
    "stop_words = list(STOP_WORDS)\n",
    "\n",
    "# Exclude from stop words list the following negative words\n",
    "stop_words.remove('not')\n",
    "stop_words.remove('never')\n",
    "stop_words.remove('none')\n",
    "stop_words.remove('noone')\n",
    "stop_words.remove('neither')\n",
    "stop_words.remove('cannot')"
   ]
  },
  {
   "cell_type": "code",
   "execution_count": 84,
   "id": "6faaf4c0",
   "metadata": {},
   "outputs": [],
   "source": [
    "def remove_trivial_words(text):  \n",
    "    \"\"\" This function Removes stopwords and words with length of one character or two \"\"\"\n",
    "    \n",
    "    temp = \"\"\n",
    "    for word in text.split():\n",
    "        if  word not in stop_words:\n",
    "            if len(word) != 1 and len(word) != 2:\n",
    "                temp += word + \" \"\n",
    "    return temp"
   ]
  },
  {
   "cell_type": "code",
   "execution_count": 116,
   "id": "cb623e52",
   "metadata": {},
   "outputs": [],
   "source": [
    "# Stemming\n",
    "snowballStemmer = SnowballStemmer(language='english') \n",
    "\n",
    "def preprocess_texts(text): \n",
    "    \n",
    "    #     Preprocess texts\n",
    "    text = text.lower() # Convert to lower case\n",
    "    text = contractions.fix(text) # Remove contractions\n",
    "    \n",
    "    #     Remove insignificant characters using regex\n",
    "    text = re.sub('\\S+@\\S+.\\S+', '', text) # Remove emails\n",
    "    text = re.sub('@[\\S]+', '', text) # Remove mentions starting with @       \n",
    "    text = re.sub('(http|https):\\/\\/[\\S]*', '', text) # Remove links starting with http or https\n",
    "    text = re.sub('#+\\S*|\\.+', '', text) # Remove Hashtags and dots\n",
    "    text = re.sub(r'(.)\\1{2,}', r'\\1', text) # Remove characters repetition\n",
    "    text = re.sub(r'&[\\S]+;', '', text) # Remove html tags, such as &amp;  \n",
    "    text = re.split('(\\W+)', text) # Insert a space between characters and punctuations\n",
    "       \n",
    "    # Expand abbreviations\n",
    "    text = expand_abbr(text)   \n",
    "    \n",
    "    # Emojis and Emoticons\n",
    "    text = emoj_emot_to_text(text)      \n",
    "    \n",
    "    text = re.sub('\\W', ' ', text)  # Remove remaining punctuations  \n",
    "    text = re.sub('\\d', '', text)  # Remove Numbers    \n",
    "   \n",
    "    # Remove trivial words\n",
    "    text = remove_trivial_words(text)\n",
    "    \n",
    "    # Stemming    \n",
    "    stemmed_token_list = [] \n",
    "    for token in text.split(): \n",
    "        stemmed_token_list.append(snowballStemmer.stem(token))\n",
    "\n",
    "    return stemmed_token_list #Return processed text as a list"
   ]
  },
  {
   "cell_type": "code",
   "execution_count": 118,
   "id": "c4aaf445",
   "metadata": {},
   "outputs": [
    {
     "name": "stdout",
     "output_type": "stream",
     "text": [
      "Time: 300.9032441189993s\n"
     ]
    }
   ],
   "source": [
    "modified_data['Tokens'] = modified_data['Review'].apply(preprocess_texts)"
   ]
  },
  {
   "cell_type": "code",
   "execution_count": 119,
   "id": "362c0f55",
   "metadata": {},
   "outputs": [
    {
     "data": {
      "text/html": [
       "<div>\n",
       "<style scoped>\n",
       "    .dataframe tbody tr th:only-of-type {\n",
       "        vertical-align: middle;\n",
       "    }\n",
       "\n",
       "    .dataframe tbody tr th {\n",
       "        vertical-align: top;\n",
       "    }\n",
       "\n",
       "    .dataframe thead th {\n",
       "        text-align: right;\n",
       "    }\n",
       "</style>\n",
       "<table border=\"1\" class=\"dataframe\">\n",
       "  <thead>\n",
       "    <tr style=\"text-align: right;\">\n",
       "      <th></th>\n",
       "      <th>Review</th>\n",
       "      <th>Label</th>\n",
       "      <th>Tokens</th>\n",
       "    </tr>\n",
       "  </thead>\n",
       "  <tbody>\n",
       "    <tr>\n",
       "      <th>910501</th>\n",
       "      <td>Unlike anything else: I bought this CD after h...</td>\n",
       "      <td>2</td>\n",
       "      <td>[unlik, bought, hear, second, miss, bittova, m...</td>\n",
       "    </tr>\n",
       "    <tr>\n",
       "      <th>152113</th>\n",
       "      <td>Thrilled it's on Kindle: I have been in love w...</td>\n",
       "      <td>2</td>\n",
       "      <td>[thrill, kindl, love, seri, year, year, time, ...</td>\n",
       "    </tr>\n",
       "    <tr>\n",
       "      <th>3016985</th>\n",
       "      <td>Great tool but NO organizer for accessories is...</td>\n",
       "      <td>2</td>\n",
       "      <td>[great, tool, organ, accessori, annoy, chose, ...</td>\n",
       "    </tr>\n",
       "    <tr>\n",
       "      <th>3581694</th>\n",
       "      <td>My rating: Merchandise was delivered in about ...</td>\n",
       "      <td>2</td>\n",
       "      <td>[rate, merchandis, deliv, day, good, condit, c...</td>\n",
       "    </tr>\n",
       "    <tr>\n",
       "      <th>26204</th>\n",
       "      <td>FUNNY: I still think this is one of the funnie...</td>\n",
       "      <td>2</td>\n",
       "      <td>[funni, think, funniest, movi, seen, probabl, ...</td>\n",
       "    </tr>\n",
       "    <tr>\n",
       "      <th>...</th>\n",
       "      <td>...</td>\n",
       "      <td>...</td>\n",
       "      <td>...</td>\n",
       "    </tr>\n",
       "    <tr>\n",
       "      <th>2233284</th>\n",
       "      <td>This CD is the lamest one ever.: None of the s...</td>\n",
       "      <td>1</td>\n",
       "      <td>[lamest, none, song, slight, hint, moral, not,...</td>\n",
       "    </tr>\n",
       "    <tr>\n",
       "      <th>1586163</th>\n",
       "      <td>Laurel &amp; Hardy steal the show in this crazy ho...</td>\n",
       "      <td>1</td>\n",
       "      <td>[laurel, hardi, steal, crazi, hodgepodg, appli...</td>\n",
       "    </tr>\n",
       "    <tr>\n",
       "      <th>2301814</th>\n",
       "      <td>Exploded my pipes: I installed a Titan SRC-2 a...</td>\n",
       "      <td>1</td>\n",
       "      <td>[explod, pipe, instal, titan, src, year, ago, ...</td>\n",
       "    </tr>\n",
       "    <tr>\n",
       "      <th>2043308</th>\n",
       "      <td>Terrible....: These three papyrus plants looke...</td>\n",
       "      <td>1</td>\n",
       "      <td>[terribl, papyrus, plant, look, sprout, seed, ...</td>\n",
       "    </tr>\n",
       "    <tr>\n",
       "      <th>228800</th>\n",
       "      <td>Picture and description do not match: Picture ...</td>\n",
       "      <td>1</td>\n",
       "      <td>[pictur, descript, not, match, pictur, fifth, ...</td>\n",
       "    </tr>\n",
       "  </tbody>\n",
       "</table>\n",
       "<p>100000 rows × 3 columns</p>\n",
       "</div>"
      ],
      "text/plain": [
       "                                                    Review  Label  \\\n",
       "910501   Unlike anything else: I bought this CD after h...      2   \n",
       "152113   Thrilled it's on Kindle: I have been in love w...      2   \n",
       "3016985  Great tool but NO organizer for accessories is...      2   \n",
       "3581694  My rating: Merchandise was delivered in about ...      2   \n",
       "26204    FUNNY: I still think this is one of the funnie...      2   \n",
       "...                                                    ...    ...   \n",
       "2233284  This CD is the lamest one ever.: None of the s...      1   \n",
       "1586163  Laurel & Hardy steal the show in this crazy ho...      1   \n",
       "2301814  Exploded my pipes: I installed a Titan SRC-2 a...      1   \n",
       "2043308  Terrible....: These three papyrus plants looke...      1   \n",
       "228800   Picture and description do not match: Picture ...      1   \n",
       "\n",
       "                                                    Tokens  \n",
       "910501   [unlik, bought, hear, second, miss, bittova, m...  \n",
       "152113   [thrill, kindl, love, seri, year, year, time, ...  \n",
       "3016985  [great, tool, organ, accessori, annoy, chose, ...  \n",
       "3581694  [rate, merchandis, deliv, day, good, condit, c...  \n",
       "26204    [funni, think, funniest, movi, seen, probabl, ...  \n",
       "...                                                    ...  \n",
       "2233284  [lamest, none, song, slight, hint, moral, not,...  \n",
       "1586163  [laurel, hardi, steal, crazi, hodgepodg, appli...  \n",
       "2301814  [explod, pipe, instal, titan, src, year, ago, ...  \n",
       "2043308  [terribl, papyrus, plant, look, sprout, seed, ...  \n",
       "228800   [pictur, descript, not, match, pictur, fifth, ...  \n",
       "\n",
       "[100000 rows x 3 columns]"
      ]
     },
     "execution_count": 119,
     "metadata": {},
     "output_type": "execute_result"
    }
   ],
   "source": [
    "modified_data"
   ]
  },
  {
   "cell_type": "code",
   "execution_count": 120,
   "id": "8f125a1f",
   "metadata": {},
   "outputs": [],
   "source": [
    "# Convert token lists to string \n",
    "def convert_list_str(tokens):\n",
    "    return ' '.join(tokens)\n",
    "modified_data['String_tokens'] = modified_data['Tokens'].apply(convert_list_str)"
   ]
  },
  {
   "cell_type": "code",
   "execution_count": 121,
   "id": "008ecc36",
   "metadata": {},
   "outputs": [
    {
     "data": {
      "text/html": [
       "<div>\n",
       "<style scoped>\n",
       "    .dataframe tbody tr th:only-of-type {\n",
       "        vertical-align: middle;\n",
       "    }\n",
       "\n",
       "    .dataframe tbody tr th {\n",
       "        vertical-align: top;\n",
       "    }\n",
       "\n",
       "    .dataframe thead th {\n",
       "        text-align: right;\n",
       "    }\n",
       "</style>\n",
       "<table border=\"1\" class=\"dataframe\">\n",
       "  <thead>\n",
       "    <tr style=\"text-align: right;\">\n",
       "      <th></th>\n",
       "      <th>Review</th>\n",
       "      <th>Label</th>\n",
       "      <th>Tokens</th>\n",
       "      <th>String_tokens</th>\n",
       "    </tr>\n",
       "  </thead>\n",
       "  <tbody>\n",
       "    <tr>\n",
       "      <th>0</th>\n",
       "      <td>Unlike anything else: I bought this CD after h...</td>\n",
       "      <td>2</td>\n",
       "      <td>[unlik, bought, hear, second, miss, bittova, m...</td>\n",
       "      <td>unlik bought hear second miss bittova music np...</td>\n",
       "    </tr>\n",
       "    <tr>\n",
       "      <th>1</th>\n",
       "      <td>Thrilled it's on Kindle: I have been in love w...</td>\n",
       "      <td>2</td>\n",
       "      <td>[thrill, kindl, love, seri, year, year, time, ...</td>\n",
       "      <td>thrill kindl love seri year year time print no...</td>\n",
       "    </tr>\n",
       "    <tr>\n",
       "      <th>2</th>\n",
       "      <td>Great tool but NO organizer for accessories is...</td>\n",
       "      <td>2</td>\n",
       "      <td>[great, tool, organ, accessori, annoy, chose, ...</td>\n",
       "      <td>great tool organ accessori annoy chose dremel ...</td>\n",
       "    </tr>\n",
       "    <tr>\n",
       "      <th>3</th>\n",
       "      <td>My rating: Merchandise was delivered in about ...</td>\n",
       "      <td>2</td>\n",
       "      <td>[rate, merchandis, deliv, day, good, condit, c...</td>\n",
       "      <td>rate merchandis deliv day good condit complain...</td>\n",
       "    </tr>\n",
       "    <tr>\n",
       "      <th>4</th>\n",
       "      <td>FUNNY: I still think this is one of the funnie...</td>\n",
       "      <td>2</td>\n",
       "      <td>[funni, think, funniest, movi, seen, probabl, ...</td>\n",
       "      <td>funni think funniest movi seen probabl mood wa...</td>\n",
       "    </tr>\n",
       "    <tr>\n",
       "      <th>...</th>\n",
       "      <td>...</td>\n",
       "      <td>...</td>\n",
       "      <td>...</td>\n",
       "      <td>...</td>\n",
       "    </tr>\n",
       "    <tr>\n",
       "      <th>99995</th>\n",
       "      <td>This CD is the lamest one ever.: None of the s...</td>\n",
       "      <td>1</td>\n",
       "      <td>[lamest, none, song, slight, hint, moral, not,...</td>\n",
       "      <td>lamest none song slight hint moral not recommend</td>\n",
       "    </tr>\n",
       "    <tr>\n",
       "      <th>99996</th>\n",
       "      <td>Laurel &amp; Hardy steal the show in this crazy ho...</td>\n",
       "      <td>1</td>\n",
       "      <td>[laurel, hardi, steal, crazi, hodgepodg, appli...</td>\n",
       "      <td>laurel hardi steal crazi hodgepodg appli star ...</td>\n",
       "    </tr>\n",
       "    <tr>\n",
       "      <th>99997</th>\n",
       "      <td>Exploded my pipes: I installed a Titan SRC-2 a...</td>\n",
       "      <td>1</td>\n",
       "      <td>[explod, pipe, instal, titan, src, year, ago, ...</td>\n",
       "      <td>explod pipe instal titan src year ago thing ne...</td>\n",
       "    </tr>\n",
       "    <tr>\n",
       "      <th>99998</th>\n",
       "      <td>Terrible....: These three papyrus plants looke...</td>\n",
       "      <td>1</td>\n",
       "      <td>[terribl, papyrus, plant, look, sprout, seed, ...</td>\n",
       "      <td>terribl papyrus plant look sprout seed day shi...</td>\n",
       "    </tr>\n",
       "    <tr>\n",
       "      <th>99999</th>\n",
       "      <td>Picture and description do not match: Picture ...</td>\n",
       "      <td>1</td>\n",
       "      <td>[pictur, descript, not, match, pictur, fifth, ...</td>\n",
       "      <td>pictur descript not match pictur fifth edit ne...</td>\n",
       "    </tr>\n",
       "  </tbody>\n",
       "</table>\n",
       "<p>100000 rows × 4 columns</p>\n",
       "</div>"
      ],
      "text/plain": [
       "                                                  Review  Label  \\\n",
       "0      Unlike anything else: I bought this CD after h...      2   \n",
       "1      Thrilled it's on Kindle: I have been in love w...      2   \n",
       "2      Great tool but NO organizer for accessories is...      2   \n",
       "3      My rating: Merchandise was delivered in about ...      2   \n",
       "4      FUNNY: I still think this is one of the funnie...      2   \n",
       "...                                                  ...    ...   \n",
       "99995  This CD is the lamest one ever.: None of the s...      1   \n",
       "99996  Laurel & Hardy steal the show in this crazy ho...      1   \n",
       "99997  Exploded my pipes: I installed a Titan SRC-2 a...      1   \n",
       "99998  Terrible....: These three papyrus plants looke...      1   \n",
       "99999  Picture and description do not match: Picture ...      1   \n",
       "\n",
       "                                                  Tokens  \\\n",
       "0      [unlik, bought, hear, second, miss, bittova, m...   \n",
       "1      [thrill, kindl, love, seri, year, year, time, ...   \n",
       "2      [great, tool, organ, accessori, annoy, chose, ...   \n",
       "3      [rate, merchandis, deliv, day, good, condit, c...   \n",
       "4      [funni, think, funniest, movi, seen, probabl, ...   \n",
       "...                                                  ...   \n",
       "99995  [lamest, none, song, slight, hint, moral, not,...   \n",
       "99996  [laurel, hardi, steal, crazi, hodgepodg, appli...   \n",
       "99997  [explod, pipe, instal, titan, src, year, ago, ...   \n",
       "99998  [terribl, papyrus, plant, look, sprout, seed, ...   \n",
       "99999  [pictur, descript, not, match, pictur, fifth, ...   \n",
       "\n",
       "                                           String_tokens  \n",
       "0      unlik bought hear second miss bittova music np...  \n",
       "1      thrill kindl love seri year year time print no...  \n",
       "2      great tool organ accessori annoy chose dremel ...  \n",
       "3      rate merchandis deliv day good condit complain...  \n",
       "4      funni think funniest movi seen probabl mood wa...  \n",
       "...                                                  ...  \n",
       "99995   lamest none song slight hint moral not recommend  \n",
       "99996  laurel hardi steal crazi hodgepodg appli star ...  \n",
       "99997  explod pipe instal titan src year ago thing ne...  \n",
       "99998  terribl papyrus plant look sprout seed day shi...  \n",
       "99999  pictur descript not match pictur fifth edit ne...  \n",
       "\n",
       "[100000 rows x 4 columns]"
      ]
     },
     "execution_count": 121,
     "metadata": {},
     "output_type": "execute_result"
    }
   ],
   "source": [
    "modified_data = modified_data.reset_index(drop=True)\n",
    "modified_data"
   ]
  },
  {
   "cell_type": "markdown",
   "id": "03d0de43",
   "metadata": {},
   "source": [
    "# Analyze data after processing"
   ]
  },
  {
   "cell_type": "code",
   "execution_count": 9,
   "id": "47d25ce8",
   "metadata": {},
   "outputs": [
    {
     "name": "stdout",
     "output_type": "stream",
     "text": [
      "Number of tokens: 32195512\n",
      "Number of unique tokens: 89\n",
      "Positive Tokens: 15661839\n",
      "Negative Tokens: 16533673\n",
      "Positive Unique Tokens: 44\n",
      "Negative Unique Tokens: 45\n"
     ]
    }
   ],
   "source": [
    "# Count the number of tokens in the dataset after processing\n",
    "num_unique_tokens = 0\n",
    "num_of_total_tokens = 0\n",
    "num_pos_tokens = 0\n",
    "num_neg_tokens = 0\n",
    "pos_tokens = []\n",
    "neg_tokens = []\n",
    "rows = modified_data.shape[0]\n",
    "\n",
    "for i in range(rows):\n",
    "    if modified_data['Label'][i] == 1:\n",
    "        for token in modified_data['Tokens'][i]:\n",
    "            neg_tokens.append(token)    \n",
    "    else:\n",
    "        for token in modified_data['Tokens'][i]:\n",
    "            pos_tokens.append(token)     \n",
    "\n",
    "num_pos_tokens = len(pos_tokens)\n",
    "num_neg_tokens = len(neg_tokens)\n",
    "num_of_total_tokens = num_pos_tokens + num_neg_tokens\n",
    "num_unique_tokens = len(set(pos_tokens)) + len(set(neg_tokens))\n",
    "\n",
    "print(f\"\"\"Number of tokens: {num_of_total_tokens}\n",
    "Number of unique tokens: {num_unique_tokens}\n",
    "Positive Tokens: {num_pos_tokens}\n",
    "Negative Tokens: {num_neg_tokens}\n",
    "Positive Unique Tokens: {len(set(pos_tokens))}\n",
    "Negative Unique Tokens: {len(set(neg_tokens))}\"\"\")"
   ]
  },
  {
   "cell_type": "code",
   "execution_count": 10,
   "id": "0d4b0027",
   "metadata": {},
   "outputs": [],
   "source": [
    "# Calculate words occurances \n",
    "def occurances_of_words(dataframe, reverse=True):\n",
    "    freq_words_dic = {}\n",
    "    rows = dataframe.shape[0]\n",
    "    \n",
    "    for i in range(rows):\n",
    "        for word in dataframe['Tokens'][i]:\n",
    "            if word in freq_words_dic:\n",
    "                freq = freq_words_dic[word]\n",
    "                freq_words_dic[word] = freq + 1\n",
    "            else:\n",
    "                freq_words_dic[word] = 1\n",
    "    return sorted(freq_words_dic.items(), key=lambda x: x[1], reverse=reverse)"
   ]
  },
  {
   "cell_type": "code",
   "execution_count": 11,
   "id": "c1339581",
   "metadata": {},
   "outputs": [
    {
     "data": {
      "text/plain": [
       "[(\"'\", 3625868),\n",
       " (',', 1762934),\n",
       " (' ', 1762934),\n",
       " ('e', 920748),\n",
       " ('t', 798190),\n",
       " ('o', 796523),\n",
       " ('r', 716168),\n",
       " ('a', 711149),\n",
       " ('i', 690661),\n",
       " ('n', 612483),\n",
       " ('s', 495805),\n",
       " ('l', 451690),\n",
       " ('c', 384455),\n",
       " ('d', 346261),\n",
       " ('p', 320842),\n",
       " ('u', 308293),\n",
       " ('m', 271139),\n",
       " ('h', 257095),\n",
       " ('b', 210655),\n",
       " ('g', 207267)]"
      ]
     },
     "execution_count": 11,
     "metadata": {},
     "output_type": "execute_result"
    }
   ],
   "source": [
    "# Calculate words occurances in negative tweets\n",
    "neg_modified_data = modified_data[modified_data['Label'] == 1]\n",
    "neg_modified_data = neg_modified_data.reset_index(drop=True)\n",
    "\n",
    "neg_freq_words = occurances_of_words(neg_modified_data)\n",
    "sorted(neg_freq_words, key=lambda x: x[1], reverse=True)[:20]"
   ]
  },
  {
   "cell_type": "code",
   "execution_count": 12,
   "id": "0990fbb3",
   "metadata": {},
   "outputs": [
    {
     "data": {
      "text/plain": [
       "[(\"'\", 3412558),\n",
       " (',', 1656279),\n",
       " (' ', 1656279),\n",
       " ('e', 934973),\n",
       " ('o', 724009),\n",
       " ('t', 712154),\n",
       " ('a', 694989),\n",
       " ('r', 684733),\n",
       " ('i', 674537),\n",
       " ('n', 548009),\n",
       " ('s', 460214),\n",
       " ('l', 457778),\n",
       " ('c', 373683),\n",
       " ('d', 330905),\n",
       " ('u', 278652),\n",
       " ('p', 266319),\n",
       " ('m', 266287),\n",
       " ('h', 248916),\n",
       " ('g', 226569),\n",
       " ('b', 194088)]"
      ]
     },
     "execution_count": 12,
     "metadata": {},
     "output_type": "execute_result"
    }
   ],
   "source": [
    "# Calculate words occurances in positive tweets\n",
    "pos_modified_data = modified_data[modified_data['Label'] == 2]\n",
    "pos_modified_data = pos_modified_data.reset_index(drop=True)\n",
    "\n",
    "pos_freq_words = occurances_of_words(pos_modified_data)\n",
    "sorted(pos_freq_words, key=lambda x: x[1], reverse=True)[:20]"
   ]
  },
  {
   "cell_type": "code",
   "execution_count": 13,
   "id": "c788007f",
   "metadata": {},
   "outputs": [],
   "source": [
    "def plot_ten_freq_words(freq_words_list, label, color):\n",
    "    \"\"\" Plot a bar chart with the ten most frequent words \"\"\"\n",
    "    \n",
    "    ten_freq_words = [f_item[0] for f_item in freq_words_list]\n",
    "    occurances = [s_item[1] for s_item in freq_words_list]    \n",
    "    \n",
    "    # X ticks position\n",
    "    x_pos = [x*2 for x in range(10)]\n",
    "\n",
    "    plt.bar(x_pos, occurances, align='center', width=1.5, alpha=0.8, color=color, label=label)\n",
    "    plt.xlabel('Most Frequent Words')\n",
    "    plt.ylabel('Number of occurances')\n",
    "    plt.legend()\n",
    "    plt.xticks(x_pos, ten_freq_words, rotation='vertical')\n",
    "    plt.show()"
   ]
  },
  {
   "cell_type": "code",
   "execution_count": 14,
   "id": "1ab9221a",
   "metadata": {},
   "outputs": [
    {
     "data": {
      "image/png": "[encoded data removed]",
      "text/plain": [
       "<Figure size 432x288 with 1 Axes>"
      ]
     },
     "metadata": {
      "needs_background": "light"
     },
     "output_type": "display_data"
    },
    {
     "data": {
      "image/png": "[encoded data removed]",
      "text/plain": [
       "<Figure size 432x288 with 1 Axes>"
      ]
     },
     "metadata": {
      "needs_background": "light"
     },
     "output_type": "display_data"
    }
   ],
   "source": [
    "ten_neg_freq_words = neg_freq_words[:10]\n",
    "ten_neg_freq_words\n",
    "plot_ten_freq_words(ten_neg_freq_words, 'Negative Words', 'red')\n",
    "ten_pos_freq_words = pos_freq_words[:10]\n",
    "ten_pos_freq_words\n",
    "plot_ten_freq_words(ten_pos_freq_words, 'Positive Words', 'green')"
   ]
  },
  {
   "cell_type": "markdown",
   "id": "7434cf11",
   "metadata": {},
   "source": [
    "# Feature Extraction and Model Training"
   ]
  },
  {
   "cell_type": "code",
   "execution_count": 19,
   "id": "edee676e",
   "metadata": {},
   "outputs": [
    {
     "name": "stdout",
     "output_type": "stream",
     "text": [
      "Splitted data: \n",
      "Train Dimensions: (80000, 5)\n",
      "Test Dimensions: (20000, 5)\n",
      "\n",
      "Fitted data: \n",
      "Train Dimensions: (80000, 1535420)\n",
      "Test Dimensions: (20000, 1535420)\n"
     ]
    }
   ],
   "source": [
    "X_train, y_test = train_test_split(modified_data, test_size=0.2, random_state = 0)\n",
    "print(f'Splitted data: \\nTrain Dimensions: {X_train.shape}\\nTest Dimensions: {y_test.shape}\\n')\n",
    "\n",
    "tfidf = TfidfVectorizer(ngram_range=(1, 2))\n",
    "tfidf.fit(X_train['String_tokens'])\n",
    "trained_tfidf = tfidf.transform(X_train['String_tokens'])\n",
    "test_tfidf = tfidf.transform(y_test['String_tokens'])\n",
    "print(f'Fitted data: \\nTrain Dimensions: {trained_tfidf.shape}\\nTest Dimensions: {test_tfidf.shape}')"
   ]
  },
  {
   "cell_type": "code",
   "execution_count": 16,
   "id": "d4396f1b",
   "metadata": {},
   "outputs": [],
   "source": [
    "def plot_model(model, y_test):      \n",
    "    # Print classfification report\n",
    "    predictions = model.predict(test_tfidf)\n",
    "    print(classification_report(y_test['Label'], predictions))\n",
    "    \n",
    "    # Print and plot confusion matrix\n",
    "    cm = confusion_matrix(y_test['Label'], predictions, labels=[1, 2])\n",
    "    print(cm)\n",
    "    plt.figure(figsize= (10, 7))\n",
    "    sn.heatmap(cm, annot=True, fmt='.0f')\n",
    "    plt.xlabel('Predicted')\n",
    "    plt.ylabel('value')\n",
    "    plt.show()"
   ]
  },
  {
   "cell_type": "markdown",
   "id": "1f010d83",
   "metadata": {},
   "source": [
    "### Logistic Regression"
   ]
  },
  {
   "cell_type": "code",
   "execution_count": 17,
   "id": "ef5d156d",
   "metadata": {},
   "outputs": [
    {
     "data": {
      "text/plain": [
       "0.886"
      ]
     },
     "execution_count": 17,
     "metadata": {},
     "output_type": "execute_result"
    }
   ],
   "source": [
    "log_model = LogisticRegression(max_iter=1000)\n",
    "log_model.fit(trained_tfidf, X_train['Label'])\n",
    "log_model.score(test_tfidf, y_test['Label'])"
   ]
  },
  {
   "cell_type": "code",
   "execution_count": 18,
   "id": "10b50a40",
   "metadata": {},
   "outputs": [
    {
     "name": "stdout",
     "output_type": "stream",
     "text": [
      "Average accuracy: 0.8862625\n"
     ]
    }
   ],
   "source": [
    "score = cross_val_score(log_model, trained_tfidf, X_train['Label'], cv=10, scoring='accuracy')\n",
    "print(f'Average accuracy: {score.mean()}')"
   ]
  },
  {
   "cell_type": "markdown",
   "id": "0cc837e6",
   "metadata": {},
   "source": [
    "### SVM"
   ]
  },
  {
   "cell_type": "code",
   "execution_count": 132,
   "id": "5710edf2",
   "metadata": {},
   "outputs": [
    {
     "data": {
      "text/html": [
       "<style>#sk-container-id-4 {color: black;background-color: white;}#sk-container-id-4 pre{padding: 0;}#sk-container-id-4 div.sk-toggleable {background-color: white;}#sk-container-id-4 label.sk-toggleable__label {cursor: pointer;display: block;width: 100%;margin-bottom: 0;padding: 0.3em;box-sizing: border-box;text-align: center;}#sk-container-id-4 label.sk-toggleable__label-arrow:before {content: \"▸\";float: left;margin-right: 0.25em;color: #696969;}#sk-container-id-4 label.sk-toggleable__label-arrow:hover:before {color: black;}#sk-container-id-4 div.sk-estimator:hover label.sk-toggleable__label-arrow:before {color: black;}#sk-container-id-4 div.sk-toggleable__content {max-height: 0;max-width: 0;overflow: hidden;text-align: left;background-color: #f0f8ff;}#sk-container-id-4 div.sk-toggleable__content pre {margin: 0.2em;color: black;border-radius: 0.25em;background-color: #f0f8ff;}#sk-container-id-4 input.sk-toggleable__control:checked~div.sk-toggleable__content {max-height: 200px;max-width: 100%;overflow: auto;}#sk-container-id-4 input.sk-toggleable__control:checked~label.sk-toggleable__label-arrow:before {content: \"▾\";}#sk-container-id-4 div.sk-estimator input.sk-toggleable__control:checked~label.sk-toggleable__label {background-color: #d4ebff;}#sk-container-id-4 div.sk-label input.sk-toggleable__control:checked~label.sk-toggleable__label {background-color: #d4ebff;}#sk-container-id-4 input.sk-hidden--visually {border: 0;clip: rect(1px 1px 1px 1px);clip: rect(1px, 1px, 1px, 1px);height: 1px;margin: -1px;overflow: hidden;padding: 0;position: absolute;width: 1px;}#sk-container-id-4 div.sk-estimator {font-family: monospace;background-color: #f0f8ff;border: 1px dotted black;border-radius: 0.25em;box-sizing: border-box;margin-bottom: 0.5em;}#sk-container-id-4 div.sk-estimator:hover {background-color: #d4ebff;}#sk-container-id-4 div.sk-parallel-item::after {content: \"\";width: 100%;border-bottom: 1px solid gray;flex-grow: 1;}#sk-container-id-4 div.sk-label:hover label.sk-toggleable__label {background-color: #d4ebff;}#sk-container-id-4 div.sk-serial::before {content: \"\";position: absolute;border-left: 1px solid gray;box-sizing: border-box;top: 0;bottom: 0;left: 50%;z-index: 0;}#sk-container-id-4 div.sk-serial {display: flex;flex-direction: column;align-items: center;background-color: white;padding-right: 0.2em;padding-left: 0.2em;position: relative;}#sk-container-id-4 div.sk-item {position: relative;z-index: 1;}#sk-container-id-4 div.sk-parallel {display: flex;align-items: stretch;justify-content: center;background-color: white;position: relative;}#sk-container-id-4 div.sk-item::before, #sk-container-id-4 div.sk-parallel-item::before {content: \"\";position: absolute;border-left: 1px solid gray;box-sizing: border-box;top: 0;bottom: 0;left: 50%;z-index: -1;}#sk-container-id-4 div.sk-parallel-item {display: flex;flex-direction: column;z-index: 1;position: relative;background-color: white;}#sk-container-id-4 div.sk-parallel-item:first-child::after {align-self: flex-end;width: 50%;}#sk-container-id-4 div.sk-parallel-item:last-child::after {align-self: flex-start;width: 50%;}#sk-container-id-4 div.sk-parallel-item:only-child::after {width: 0;}#sk-container-id-4 div.sk-dashed-wrapped {border: 1px dashed gray;margin: 0 0.4em 0.5em 0.4em;box-sizing: border-box;padding-bottom: 0.4em;background-color: white;}#sk-container-id-4 div.sk-label label {font-family: monospace;font-weight: bold;display: inline-block;line-height: 1.2em;}#sk-container-id-4 div.sk-label-container {text-align: center;}#sk-container-id-4 div.sk-container {/* jupyter's `normalize.less` sets `[hidden] { display: none; }` but bootstrap.min.css set `[hidden] { display: none !important; }` so we also need the `!important` here to be able to override the default hidden behavior on the sphinx rendered scikit-learn.org. See: https://github.com/scikit-learn/scikit-learn/issues/21755 */display: inline-block !important;position: relative;}#sk-container-id-4 div.sk-text-repr-fallback {display: none;}</style><div id=\"sk-container-id-4\" class=\"sk-top-container\"><div class=\"sk-text-repr-fallback\"><pre>SVC(kernel=&#x27;linear&#x27;)</pre><b>In a Jupyter environment, please rerun this cell to show the HTML representation or trust the notebook. <br />On GitHub, the HTML representation is unable to render, please try loading this page with nbviewer.org.</b></div><div class=\"sk-container\" hidden><div class=\"sk-item\"><div class=\"sk-estimator sk-toggleable\"><input class=\"sk-toggleable__control sk-hidden--visually\" id=\"sk-estimator-id-4\" type=\"checkbox\" checked><label for=\"sk-estimator-id-4\" class=\"sk-toggleable__label sk-toggleable__label-arrow\">SVC</label><div class=\"sk-toggleable__content\"><pre>SVC(kernel=&#x27;linear&#x27;)</pre></div></div></div></div></div>"
      ],
      "text/plain": [
       "SVC(kernel='linear')"
      ]
     },
     "execution_count": 132,
     "metadata": {},
     "output_type": "execute_result"
    }
   ],
   "source": [
    "# svm_model = SVC(kernel='linear')\n",
    "# svm_model.fit(trained_tfidf, X_train['Label'])"
   ]
  },
  {
   "cell_type": "code",
   "execution_count": 134,
   "id": "fa148ab3",
   "metadata": {},
   "outputs": [
    {
     "name": "stdout",
     "output_type": "stream",
     "text": [
      "              precision    recall  f1-score   support\n",
      "\n",
      "           1       0.90      0.90      0.90      9956\n",
      "           2       0.90      0.90      0.90     10044\n",
      "\n",
      "    accuracy                           0.90     20000\n",
      "   macro avg       0.90      0.90      0.90     20000\n",
      "weighted avg       0.90      0.90      0.90     20000\n",
      "\n",
      "[[8968  988]\n",
      " [ 957 9087]]\n"
     ]
    },
    {
     "data": {
      "image/png": "[encoded data removed]",
      "text/plain": [
       "<Figure size 720x504 with 2 Axes>"
      ]
     },
     "metadata": {
      "needs_background": "light"
     },
     "output_type": "display_data"
    }
   ],
   "source": [
    "plot_model(svm_model, y_test)"
   ]
  },
  {
   "cell_type": "code",
   "execution_count": 135,
   "id": "6d00c4bb",
   "metadata": {},
   "outputs": [
    {
     "data": {
      "text/plain": [
       "0.90275"
      ]
     },
     "execution_count": 135,
     "metadata": {},
     "output_type": "execute_result"
    }
   ],
   "source": [
    "svm_model.score(test_tfidf, y_test['Label'])"
   ]
  },
  {
   "cell_type": "code",
   "execution_count": 153,
   "id": "d99b6cdb",
   "metadata": {},
   "outputs": [],
   "source": [
    "# import pickle\n",
    "# with open('/home/verpen/Downloads/Datasets/Models/SVM_Amazon_Reviews_90%_pkl', 'wb') as files:\n",
    "#     pickle.dump(svm_model, files)"
   ]
  },
  {
   "cell_type": "code",
   "execution_count": 154,
   "id": "69966b05",
   "metadata": {},
   "outputs": [
    {
     "data": {
      "text/plain": [
       "['/home/verpen/Downloads/Datasets/Models/SVM_Amazon_Reviews_90%']"
      ]
     },
     "execution_count": 154,
     "metadata": {},
     "output_type": "execute_result"
    }
   ],
   "source": [
    "# joblib.dump(svm_model, '/home/verpen/Downloads/Datasets/Models/SVM_Amazon_Reviews_90%')"
   ]
  },
  {
   "cell_type": "code",
   "execution_count": 155,
   "id": "483587c4",
   "metadata": {},
   "outputs": [
    {
     "data": {
      "text/html": [
       "<style>#sk-container-id-5 {color: black;background-color: white;}#sk-container-id-5 pre{padding: 0;}#sk-container-id-5 div.sk-toggleable {background-color: white;}#sk-container-id-5 label.sk-toggleable__label {cursor: pointer;display: block;width: 100%;margin-bottom: 0;padding: 0.3em;box-sizing: border-box;text-align: center;}#sk-container-id-5 label.sk-toggleable__label-arrow:before {content: \"▸\";float: left;margin-right: 0.25em;color: #696969;}#sk-container-id-5 label.sk-toggleable__label-arrow:hover:before {color: black;}#sk-container-id-5 div.sk-estimator:hover label.sk-toggleable__label-arrow:before {color: black;}#sk-container-id-5 div.sk-toggleable__content {max-height: 0;max-width: 0;overflow: hidden;text-align: left;background-color: #f0f8ff;}#sk-container-id-5 div.sk-toggleable__content pre {margin: 0.2em;color: black;border-radius: 0.25em;background-color: #f0f8ff;}#sk-container-id-5 input.sk-toggleable__control:checked~div.sk-toggleable__content {max-height: 200px;max-width: 100%;overflow: auto;}#sk-container-id-5 input.sk-toggleable__control:checked~label.sk-toggleable__label-arrow:before {content: \"▾\";}#sk-container-id-5 div.sk-estimator input.sk-toggleable__control:checked~label.sk-toggleable__label {background-color: #d4ebff;}#sk-container-id-5 div.sk-label input.sk-toggleable__control:checked~label.sk-toggleable__label {background-color: #d4ebff;}#sk-container-id-5 input.sk-hidden--visually {border: 0;clip: rect(1px 1px 1px 1px);clip: rect(1px, 1px, 1px, 1px);height: 1px;margin: -1px;overflow: hidden;padding: 0;position: absolute;width: 1px;}#sk-container-id-5 div.sk-estimator {font-family: monospace;background-color: #f0f8ff;border: 1px dotted black;border-radius: 0.25em;box-sizing: border-box;margin-bottom: 0.5em;}#sk-container-id-5 div.sk-estimator:hover {background-color: #d4ebff;}#sk-container-id-5 div.sk-parallel-item::after {content: \"\";width: 100%;border-bottom: 1px solid gray;flex-grow: 1;}#sk-container-id-5 div.sk-label:hover label.sk-toggleable__label {background-color: #d4ebff;}#sk-container-id-5 div.sk-serial::before {content: \"\";position: absolute;border-left: 1px solid gray;box-sizing: border-box;top: 0;bottom: 0;left: 50%;z-index: 0;}#sk-container-id-5 div.sk-serial {display: flex;flex-direction: column;align-items: center;background-color: white;padding-right: 0.2em;padding-left: 0.2em;position: relative;}#sk-container-id-5 div.sk-item {position: relative;z-index: 1;}#sk-container-id-5 div.sk-parallel {display: flex;align-items: stretch;justify-content: center;background-color: white;position: relative;}#sk-container-id-5 div.sk-item::before, #sk-container-id-5 div.sk-parallel-item::before {content: \"\";position: absolute;border-left: 1px solid gray;box-sizing: border-box;top: 0;bottom: 0;left: 50%;z-index: -1;}#sk-container-id-5 div.sk-parallel-item {display: flex;flex-direction: column;z-index: 1;position: relative;background-color: white;}#sk-container-id-5 div.sk-parallel-item:first-child::after {align-self: flex-end;width: 50%;}#sk-container-id-5 div.sk-parallel-item:last-child::after {align-self: flex-start;width: 50%;}#sk-container-id-5 div.sk-parallel-item:only-child::after {width: 0;}#sk-container-id-5 div.sk-dashed-wrapped {border: 1px dashed gray;margin: 0 0.4em 0.5em 0.4em;box-sizing: border-box;padding-bottom: 0.4em;background-color: white;}#sk-container-id-5 div.sk-label label {font-family: monospace;font-weight: bold;display: inline-block;line-height: 1.2em;}#sk-container-id-5 div.sk-label-container {text-align: center;}#sk-container-id-5 div.sk-container {/* jupyter's `normalize.less` sets `[hidden] { display: none; }` but bootstrap.min.css set `[hidden] { display: none !important; }` so we also need the `!important` here to be able to override the default hidden behavior on the sphinx rendered scikit-learn.org. See: https://github.com/scikit-learn/scikit-learn/issues/21755 */display: inline-block !important;position: relative;}#sk-container-id-5 div.sk-text-repr-fallback {display: none;}</style><div id=\"sk-container-id-5\" class=\"sk-top-container\"><div class=\"sk-text-repr-fallback\"><pre>SVC(kernel=&#x27;linear&#x27;)</pre><b>In a Jupyter environment, please rerun this cell to show the HTML representation or trust the notebook. <br />On GitHub, the HTML representation is unable to render, please try loading this page with nbviewer.org.</b></div><div class=\"sk-container\" hidden><div class=\"sk-item\"><div class=\"sk-estimator sk-toggleable\"><input class=\"sk-toggleable__control sk-hidden--visually\" id=\"sk-estimator-id-5\" type=\"checkbox\" checked><label for=\"sk-estimator-id-5\" class=\"sk-toggleable__label sk-toggleable__label-arrow\">SVC</label><div class=\"sk-toggleable__content\"><pre>SVC(kernel=&#x27;linear&#x27;)</pre></div></div></div></div></div>"
      ],
      "text/plain": [
       "SVC(kernel='linear')"
      ]
     },
     "execution_count": 155,
     "metadata": {},
     "output_type": "execute_result"
    }
   ],
   "source": [
    "m_jlib = joblib.load('/home/verpen/Downloads/Datasets/Models/SVM_Amazon_Reviews_90%')\n",
    "m_jlib"
   ]
  },
  {
   "cell_type": "markdown",
   "id": "5493ba61",
   "metadata": {},
   "source": [
    "## Decision Tree"
   ]
  },
  {
   "cell_type": "code",
   "execution_count": 20,
   "id": "dbd9ee5e",
   "metadata": {},
   "outputs": [
    {
     "data": {
      "text/html": [
       "<style>#sk-container-id-1 {color: black;background-color: white;}#sk-container-id-1 pre{padding: 0;}#sk-container-id-1 div.sk-toggleable {background-color: white;}#sk-container-id-1 label.sk-toggleable__label {cursor: pointer;display: block;width: 100%;margin-bottom: 0;padding: 0.3em;box-sizing: border-box;text-align: center;}#sk-container-id-1 label.sk-toggleable__label-arrow:before {content: \"▸\";float: left;margin-right: 0.25em;color: #696969;}#sk-container-id-1 label.sk-toggleable__label-arrow:hover:before {color: black;}#sk-container-id-1 div.sk-estimator:hover label.sk-toggleable__label-arrow:before {color: black;}#sk-container-id-1 div.sk-toggleable__content {max-height: 0;max-width: 0;overflow: hidden;text-align: left;background-color: #f0f8ff;}#sk-container-id-1 div.sk-toggleable__content pre {margin: 0.2em;color: black;border-radius: 0.25em;background-color: #f0f8ff;}#sk-container-id-1 input.sk-toggleable__control:checked~div.sk-toggleable__content {max-height: 200px;max-width: 100%;overflow: auto;}#sk-container-id-1 input.sk-toggleable__control:checked~label.sk-toggleable__label-arrow:before {content: \"▾\";}#sk-container-id-1 div.sk-estimator input.sk-toggleable__control:checked~label.sk-toggleable__label {background-color: #d4ebff;}#sk-container-id-1 div.sk-label input.sk-toggleable__control:checked~label.sk-toggleable__label {background-color: #d4ebff;}#sk-container-id-1 input.sk-hidden--visually {border: 0;clip: rect(1px 1px 1px 1px);clip: rect(1px, 1px, 1px, 1px);height: 1px;margin: -1px;overflow: hidden;padding: 0;position: absolute;width: 1px;}#sk-container-id-1 div.sk-estimator {font-family: monospace;background-color: #f0f8ff;border: 1px dotted black;border-radius: 0.25em;box-sizing: border-box;margin-bottom: 0.5em;}#sk-container-id-1 div.sk-estimator:hover {background-color: #d4ebff;}#sk-container-id-1 div.sk-parallel-item::after {content: \"\";width: 100%;border-bottom: 1px solid gray;flex-grow: 1;}#sk-container-id-1 div.sk-label:hover label.sk-toggleable__label {background-color: #d4ebff;}#sk-container-id-1 div.sk-serial::before {content: \"\";position: absolute;border-left: 1px solid gray;box-sizing: border-box;top: 0;bottom: 0;left: 50%;z-index: 0;}#sk-container-id-1 div.sk-serial {display: flex;flex-direction: column;align-items: center;background-color: white;padding-right: 0.2em;padding-left: 0.2em;position: relative;}#sk-container-id-1 div.sk-item {position: relative;z-index: 1;}#sk-container-id-1 div.sk-parallel {display: flex;align-items: stretch;justify-content: center;background-color: white;position: relative;}#sk-container-id-1 div.sk-item::before, #sk-container-id-1 div.sk-parallel-item::before {content: \"\";position: absolute;border-left: 1px solid gray;box-sizing: border-box;top: 0;bottom: 0;left: 50%;z-index: -1;}#sk-container-id-1 div.sk-parallel-item {display: flex;flex-direction: column;z-index: 1;position: relative;background-color: white;}#sk-container-id-1 div.sk-parallel-item:first-child::after {align-self: flex-end;width: 50%;}#sk-container-id-1 div.sk-parallel-item:last-child::after {align-self: flex-start;width: 50%;}#sk-container-id-1 div.sk-parallel-item:only-child::after {width: 0;}#sk-container-id-1 div.sk-dashed-wrapped {border: 1px dashed gray;margin: 0 0.4em 0.5em 0.4em;box-sizing: border-box;padding-bottom: 0.4em;background-color: white;}#sk-container-id-1 div.sk-label label {font-family: monospace;font-weight: bold;display: inline-block;line-height: 1.2em;}#sk-container-id-1 div.sk-label-container {text-align: center;}#sk-container-id-1 div.sk-container {/* jupyter's `normalize.less` sets `[hidden] { display: none; }` but bootstrap.min.css set `[hidden] { display: none !important; }` so we also need the `!important` here to be able to override the default hidden behavior on the sphinx rendered scikit-learn.org. See: https://github.com/scikit-learn/scikit-learn/issues/21755 */display: inline-block !important;position: relative;}#sk-container-id-1 div.sk-text-repr-fallback {display: none;}</style><div id=\"sk-container-id-1\" class=\"sk-top-container\"><div class=\"sk-text-repr-fallback\"><pre>DecisionTreeClassifier()</pre><b>In a Jupyter environment, please rerun this cell to show the HTML representation or trust the notebook. <br />On GitHub, the HTML representation is unable to render, please try loading this page with nbviewer.org.</b></div><div class=\"sk-container\" hidden><div class=\"sk-item\"><div class=\"sk-estimator sk-toggleable\"><input class=\"sk-toggleable__control sk-hidden--visually\" id=\"sk-estimator-id-1\" type=\"checkbox\" checked><label for=\"sk-estimator-id-1\" class=\"sk-toggleable__label sk-toggleable__label-arrow\">DecisionTreeClassifier</label><div class=\"sk-toggleable__content\"><pre>DecisionTreeClassifier()</pre></div></div></div></div></div>"
      ],
      "text/plain": [
       "DecisionTreeClassifier()"
      ]
     },
     "execution_count": 20,
     "metadata": {},
     "output_type": "execute_result"
    }
   ],
   "source": [
    "dtree_model = DecisionTreeClassifier()\n",
    "dtree_model.fit(trained_tfidf, X_train['Label'])"
   ]
  },
  {
   "cell_type": "code",
   "execution_count": 21,
   "id": "19046c46",
   "metadata": {},
   "outputs": [
    {
     "data": {
      "text/plain": [
       "0.76955"
      ]
     },
     "execution_count": 21,
     "metadata": {},
     "output_type": "execute_result"
    }
   ],
   "source": [
    "dtree_model.score(test_tfidf, y_test['Label'])"
   ]
  },
  {
   "cell_type": "markdown",
   "id": "92142cf6",
   "metadata": {},
   "source": [
    "## Random Forest"
   ]
  },
  {
   "cell_type": "code",
   "execution_count": 23,
   "id": "73f4ff20",
   "metadata": {},
   "outputs": [
    {
     "data": {
      "text/html": [
       "<style>#sk-container-id-2 {color: black;background-color: white;}#sk-container-id-2 pre{padding: 0;}#sk-container-id-2 div.sk-toggleable {background-color: white;}#sk-container-id-2 label.sk-toggleable__label {cursor: pointer;display: block;width: 100%;margin-bottom: 0;padding: 0.3em;box-sizing: border-box;text-align: center;}#sk-container-id-2 label.sk-toggleable__label-arrow:before {content: \"▸\";float: left;margin-right: 0.25em;color: #696969;}#sk-container-id-2 label.sk-toggleable__label-arrow:hover:before {color: black;}#sk-container-id-2 div.sk-estimator:hover label.sk-toggleable__label-arrow:before {color: black;}#sk-container-id-2 div.sk-toggleable__content {max-height: 0;max-width: 0;overflow: hidden;text-align: left;background-color: #f0f8ff;}#sk-container-id-2 div.sk-toggleable__content pre {margin: 0.2em;color: black;border-radius: 0.25em;background-color: #f0f8ff;}#sk-container-id-2 input.sk-toggleable__control:checked~div.sk-toggleable__content {max-height: 200px;max-width: 100%;overflow: auto;}#sk-container-id-2 input.sk-toggleable__control:checked~label.sk-toggleable__label-arrow:before {content: \"▾\";}#sk-container-id-2 div.sk-estimator input.sk-toggleable__control:checked~label.sk-toggleable__label {background-color: #d4ebff;}#sk-container-id-2 div.sk-label input.sk-toggleable__control:checked~label.sk-toggleable__label {background-color: #d4ebff;}#sk-container-id-2 input.sk-hidden--visually {border: 0;clip: rect(1px 1px 1px 1px);clip: rect(1px, 1px, 1px, 1px);height: 1px;margin: -1px;overflow: hidden;padding: 0;position: absolute;width: 1px;}#sk-container-id-2 div.sk-estimator {font-family: monospace;background-color: #f0f8ff;border: 1px dotted black;border-radius: 0.25em;box-sizing: border-box;margin-bottom: 0.5em;}#sk-container-id-2 div.sk-estimator:hover {background-color: #d4ebff;}#sk-container-id-2 div.sk-parallel-item::after {content: \"\";width: 100%;border-bottom: 1px solid gray;flex-grow: 1;}#sk-container-id-2 div.sk-label:hover label.sk-toggleable__label {background-color: #d4ebff;}#sk-container-id-2 div.sk-serial::before {content: \"\";position: absolute;border-left: 1px solid gray;box-sizing: border-box;top: 0;bottom: 0;left: 50%;z-index: 0;}#sk-container-id-2 div.sk-serial {display: flex;flex-direction: column;align-items: center;background-color: white;padding-right: 0.2em;padding-left: 0.2em;position: relative;}#sk-container-id-2 div.sk-item {position: relative;z-index: 1;}#sk-container-id-2 div.sk-parallel {display: flex;align-items: stretch;justify-content: center;background-color: white;position: relative;}#sk-container-id-2 div.sk-item::before, #sk-container-id-2 div.sk-parallel-item::before {content: \"\";position: absolute;border-left: 1px solid gray;box-sizing: border-box;top: 0;bottom: 0;left: 50%;z-index: -1;}#sk-container-id-2 div.sk-parallel-item {display: flex;flex-direction: column;z-index: 1;position: relative;background-color: white;}#sk-container-id-2 div.sk-parallel-item:first-child::after {align-self: flex-end;width: 50%;}#sk-container-id-2 div.sk-parallel-item:last-child::after {align-self: flex-start;width: 50%;}#sk-container-id-2 div.sk-parallel-item:only-child::after {width: 0;}#sk-container-id-2 div.sk-dashed-wrapped {border: 1px dashed gray;margin: 0 0.4em 0.5em 0.4em;box-sizing: border-box;padding-bottom: 0.4em;background-color: white;}#sk-container-id-2 div.sk-label label {font-family: monospace;font-weight: bold;display: inline-block;line-height: 1.2em;}#sk-container-id-2 div.sk-label-container {text-align: center;}#sk-container-id-2 div.sk-container {/* jupyter's `normalize.less` sets `[hidden] { display: none; }` but bootstrap.min.css set `[hidden] { display: none !important; }` so we also need the `!important` here to be able to override the default hidden behavior on the sphinx rendered scikit-learn.org. See: https://github.com/scikit-learn/scikit-learn/issues/21755 */display: inline-block !important;position: relative;}#sk-container-id-2 div.sk-text-repr-fallback {display: none;}</style><div id=\"sk-container-id-2\" class=\"sk-top-container\"><div class=\"sk-text-repr-fallback\"><pre>RandomForestClassifier()</pre><b>In a Jupyter environment, please rerun this cell to show the HTML representation or trust the notebook. <br />On GitHub, the HTML representation is unable to render, please try loading this page with nbviewer.org.</b></div><div class=\"sk-container\" hidden><div class=\"sk-item\"><div class=\"sk-estimator sk-toggleable\"><input class=\"sk-toggleable__control sk-hidden--visually\" id=\"sk-estimator-id-2\" type=\"checkbox\" checked><label for=\"sk-estimator-id-2\" class=\"sk-toggleable__label sk-toggleable__label-arrow\">RandomForestClassifier</label><div class=\"sk-toggleable__content\"><pre>RandomForestClassifier()</pre></div></div></div></div></div>"
      ],
      "text/plain": [
       "RandomForestClassifier()"
      ]
     },
     "execution_count": 23,
     "metadata": {},
     "output_type": "execute_result"
    }
   ],
   "source": [
    "rforest_model = RandomForestClassifier()\n",
    "rforest_model.fit(trained_tfidf, X_train['Label'])"
   ]
  },
  {
   "cell_type": "code",
   "execution_count": 24,
   "id": "8c12bb2f",
   "metadata": {},
   "outputs": [
    {
     "data": {
      "text/plain": [
       "0.86275"
      ]
     },
     "execution_count": 24,
     "metadata": {},
     "output_type": "execute_result"
    }
   ],
   "source": [
    "rforest_model.score(test_tfidf, y_test['Label'])"
   ]
  },
  {
   "cell_type": "markdown",
   "id": "1b18a694",
   "metadata": {},
   "source": [
    "# Test the model "
   ]
  },
  {
   "cell_type": "code",
   "execution_count": 136,
   "id": "0748bcf6",
   "metadata": {},
   "outputs": [],
   "source": [
    "def pipeline(model, test_data):\n",
    "    \"\"\" This function takes a Pandas series data type as argument with two columns, \n",
    "        one column called tweet_sentiment and the other called text,\n",
    "        It's hard coded just to test the model. \n",
    "    \"\"\"\n",
    "    # Preprocessing\n",
    "    start = time.perf_counter()\n",
    "    test_data['processed_tweets'] = test_data['Review'].apply(preprocess_tweets)\n",
    "    test_data['string_tweets'] = test_data['processed_tweets'].apply(convert_list_str)\n",
    "    end = time.perf_counter()\n",
    "    \n",
    "    print(f'Processing time: {end - start}')\n",
    "    # Display a sample of the processed tweets \n",
    "    #test_data.sample(10)\n",
    "    \n",
    "    # Transform processed tweet using tfidf vectorizer initiated and fitted above\n",
    "    test_tfidf = tfidf.transform(test_data['string_tweets'])\n",
    "    \n",
    "    # Predict\n",
    "    predictions = model.predict(test_tfidf)\n",
    "    print(classification_report(test_data['Label'], predictions))\n",
    "    cm = confusion_matrix(test_data['Label'], predictions, labels=[1, 2])\n",
    "    print(cm)\n",
    "    plt.figure(figsize= (10, 7))\n",
    "    sn.heatmap(cm, annot=True, fmt='.0f')\n",
    "    plt.xlabel('Predicted')\n",
    "    plt.ylabel('value')\n",
    "    plt.show()\n",
    "    \n",
    "    # Plot a pie \n",
    "    (unique, counts) = np.unique(predictions, return_counts=True)\n",
    "    print(f'Unique: {unique}\\t\\tCounts: {counts}')\n",
    "    \n",
    "    neg_tweets_counts = counts[0]\n",
    "    pos_tweets_counts = counts[1]\n",
    "    labels = [\"Negative\", \"Positive\"]\n",
    "    plt.pie(counts, labels=labels, shadow=True, autopct=\"%1.2f%%\")\n",
    "    \n",
    "    # Return the array that stores the predictions\n",
    "    return predictions"
   ]
  },
  {
   "cell_type": "code",
   "execution_count": 49,
   "id": "8b77694e",
   "metadata": {},
   "outputs": [],
   "source": [
    "def manual_testing(model, tweet):\n",
    "    processed_tweets = preprocess_tweets(tweet)\n",
    "    print(f'Processed Tweets: {processed_tweets}')\n",
    "    \n",
    "    string_tweets = convert_list_str(processed_tweets)\n",
    "    print(f'String Tweets: {string_tweets}')\n",
    "    \n",
    "    test_tfidf = tfidf.transform([string_tweets])\n",
    "    prediction = model.predict(test_tfidf)\n",
    "    \n",
    "    if prediction == 2: \n",
    "        return 'Positive'\n",
    "    else:\n",
    "        return 'Negative'"
   ]
  },
  {
   "cell_type": "code",
   "execution_count": 149,
   "id": "7948acf9",
   "metadata": {},
   "outputs": [
    {
     "name": "stdout",
     "output_type": "stream",
     "text": [
      "Processed Tweets: ['movi', 'not', 'good']\n",
      "String Tweets: movi not good\n"
     ]
    },
    {
     "data": {
      "text/plain": [
       "'Negative'"
      ]
     },
     "execution_count": 149,
     "metadata": {},
     "output_type": "execute_result"
    }
   ],
   "source": [
    "manual_testing(svm_model, \"This movie is not good\")"
   ]
  },
  {
   "cell_type": "markdown",
   "id": "dff3f57e",
   "metadata": {},
   "source": [
    "# Model testing with Amazon Reviews dataset"
   ]
  },
  {
   "cell_type": "code",
   "execution_count": 51,
   "id": "de636542",
   "metadata": {},
   "outputs": [
    {
     "data": {
      "text/html": [
       "<div>\n",
       "<style scoped>\n",
       "    .dataframe tbody tr th:only-of-type {\n",
       "        vertical-align: middle;\n",
       "    }\n",
       "\n",
       "    .dataframe tbody tr th {\n",
       "        vertical-align: top;\n",
       "    }\n",
       "\n",
       "    .dataframe thead th {\n",
       "        text-align: right;\n",
       "    }\n",
       "</style>\n",
       "<table border=\"1\" class=\"dataframe\">\n",
       "  <thead>\n",
       "    <tr style=\"text-align: right;\">\n",
       "      <th></th>\n",
       "      <th>Review</th>\n",
       "      <th>Label</th>\n",
       "    </tr>\n",
       "  </thead>\n",
       "  <tbody>\n",
       "    <tr>\n",
       "      <th>0</th>\n",
       "      <td>So difficult!: Assumes a level of card experti...</td>\n",
       "      <td>1</td>\n",
       "    </tr>\n",
       "    <tr>\n",
       "      <th>1</th>\n",
       "      <td>Brave New Girl: Although the thinking of this ...</td>\n",
       "      <td>1</td>\n",
       "    </tr>\n",
       "    <tr>\n",
       "      <th>2</th>\n",
       "      <td>The absolute BEST!: The only thing wrong with ...</td>\n",
       "      <td>2</td>\n",
       "    </tr>\n",
       "    <tr>\n",
       "      <th>3</th>\n",
       "      <td>I'd rather keep my old remotes: Using a univer...</td>\n",
       "      <td>1</td>\n",
       "    </tr>\n",
       "    <tr>\n",
       "      <th>4</th>\n",
       "      <td>easy cleanup: These wipes are very strong and ...</td>\n",
       "      <td>2</td>\n",
       "    </tr>\n",
       "    <tr>\n",
       "      <th>...</th>\n",
       "      <td>...</td>\n",
       "      <td>...</td>\n",
       "    </tr>\n",
       "    <tr>\n",
       "      <th>99995</th>\n",
       "      <td>bad video: James Earl Jones butchers the narra...</td>\n",
       "      <td>1</td>\n",
       "    </tr>\n",
       "    <tr>\n",
       "      <th>99996</th>\n",
       "      <td>Wake-Up Call for Traditional Marketing Literat...</td>\n",
       "      <td>2</td>\n",
       "    </tr>\n",
       "    <tr>\n",
       "      <th>99997</th>\n",
       "      <td>Grisham has returned to respectable writing: G...</td>\n",
       "      <td>2</td>\n",
       "    </tr>\n",
       "    <tr>\n",
       "      <th>99998</th>\n",
       "      <td>Kate Thompson's best book.: I've read 8 books ...</td>\n",
       "      <td>2</td>\n",
       "    </tr>\n",
       "    <tr>\n",
       "      <th>99999</th>\n",
       "      <td>bad soap opera: It had a story line to it, but...</td>\n",
       "      <td>1</td>\n",
       "    </tr>\n",
       "  </tbody>\n",
       "</table>\n",
       "<p>100000 rows × 2 columns</p>\n",
       "</div>"
      ],
      "text/plain": [
       "                                                  Review  Label\n",
       "0      So difficult!: Assumes a level of card experti...      1\n",
       "1      Brave New Girl: Although the thinking of this ...      1\n",
       "2      The absolute BEST!: The only thing wrong with ...      2\n",
       "3      I'd rather keep my old remotes: Using a univer...      1\n",
       "4      easy cleanup: These wipes are very strong and ...      2\n",
       "...                                                  ...    ...\n",
       "99995  bad video: James Earl Jones butchers the narra...      1\n",
       "99996  Wake-Up Call for Traditional Marketing Literat...      2\n",
       "99997  Grisham has returned to respectable writing: G...      2\n",
       "99998  Kate Thompson's best book.: I've read 8 books ...      2\n",
       "99999  bad soap opera: It had a story line to it, but...      1\n",
       "\n",
       "[100000 rows x 2 columns]"
      ]
     },
     "execution_count": 51,
     "metadata": {},
     "output_type": "execute_result"
    }
   ],
   "source": [
    "# Another test\n",
    "test_data_2 = pd.read_csv('/home/verpen/Downloads/Datasets/Amazon_Reviews_4M/test.csv') # 400k reviews\n",
    "test_data_2 = test_data_2.sample(100000)\n",
    "test_data_2 = test_data_2.reset_index(drop=True)\n",
    "test_data_2"
   ]
  },
  {
   "cell_type": "code",
   "execution_count": 52,
   "id": "2f8f3ad0",
   "metadata": {},
   "outputs": [
    {
     "name": "stdout",
     "output_type": "stream",
     "text": [
      "Processing time: 117.00980448900009\n",
      "              precision    recall  f1-score   support\n",
      "\n",
      "           1       0.88      0.87      0.88     49796\n",
      "           2       0.88      0.88      0.88     50204\n",
      "\n",
      "    accuracy                           0.88    100000\n",
      "   macro avg       0.88      0.88      0.88    100000\n",
      "weighted avg       0.88      0.88      0.88    100000\n",
      "\n",
      "[[43531  6265]\n",
      " [ 5888 44316]]\n"
     ]
    },
    {
     "data": {
      "image/png": "[encoded data removed]",
      "text/plain": [
       "<Figure size 720x504 with 2 Axes>"
      ]
     },
     "metadata": {
      "needs_background": "light"
     },
     "output_type": "display_data"
    },
    {
     "name": "stdout",
     "output_type": "stream",
     "text": [
      "Unique: [1 2]\t\tCounts: [49419 50581]\n"
     ]
    },
    {
     "data": {
      "image/png": "[encoded data removed]",
      "text/plain": [
       "<Figure size 432x288 with 1 Axes>"
      ]
     },
     "metadata": {},
     "output_type": "display_data"
    }
   ],
   "source": [
    "predics = pipeline(svm_model, test_data_2)"
   ]
  },
  {
   "cell_type": "code",
   "execution_count": null,
   "id": "35b6b028",
   "metadata": {},
   "outputs": [],
   "source": []
  },
  {
   "cell_type": "markdown",
   "id": "5df63402",
   "metadata": {},
   "source": [
    "# Model testing with IMDb Moview Reviews dataset"
   ]
  },
  {
   "cell_type": "code",
   "execution_count": 144,
   "id": "42aa46a5",
   "metadata": {},
   "outputs": [
    {
     "data": {
      "text/html": [
       "<div>\n",
       "<style scoped>\n",
       "    .dataframe tbody tr th:only-of-type {\n",
       "        vertical-align: middle;\n",
       "    }\n",
       "\n",
       "    .dataframe tbody tr th {\n",
       "        vertical-align: top;\n",
       "    }\n",
       "\n",
       "    .dataframe thead th {\n",
       "        text-align: right;\n",
       "    }\n",
       "</style>\n",
       "<table border=\"1\" class=\"dataframe\">\n",
       "  <thead>\n",
       "    <tr style=\"text-align: right;\">\n",
       "      <th></th>\n",
       "      <th>Review</th>\n",
       "      <th>Label</th>\n",
       "    </tr>\n",
       "  </thead>\n",
       "  <tbody>\n",
       "    <tr>\n",
       "      <th>0</th>\n",
       "      <td>One of the other reviewers has mentioned that ...</td>\n",
       "      <td>positive</td>\n",
       "    </tr>\n",
       "    <tr>\n",
       "      <th>1</th>\n",
       "      <td>A wonderful little production. &lt;br /&gt;&lt;br /&gt;The...</td>\n",
       "      <td>positive</td>\n",
       "    </tr>\n",
       "    <tr>\n",
       "      <th>2</th>\n",
       "      <td>I thought this was a wonderful way to spend ti...</td>\n",
       "      <td>positive</td>\n",
       "    </tr>\n",
       "    <tr>\n",
       "      <th>3</th>\n",
       "      <td>Basically there's a family where a little boy ...</td>\n",
       "      <td>negative</td>\n",
       "    </tr>\n",
       "    <tr>\n",
       "      <th>4</th>\n",
       "      <td>Petter Mattei's \"Love in the Time of Money\" is...</td>\n",
       "      <td>positive</td>\n",
       "    </tr>\n",
       "    <tr>\n",
       "      <th>...</th>\n",
       "      <td>...</td>\n",
       "      <td>...</td>\n",
       "    </tr>\n",
       "    <tr>\n",
       "      <th>49995</th>\n",
       "      <td>I thought this movie did a down right good job...</td>\n",
       "      <td>positive</td>\n",
       "    </tr>\n",
       "    <tr>\n",
       "      <th>49996</th>\n",
       "      <td>Bad plot, bad dialogue, bad acting, idiotic di...</td>\n",
       "      <td>negative</td>\n",
       "    </tr>\n",
       "    <tr>\n",
       "      <th>49997</th>\n",
       "      <td>I am a Catholic taught in parochial elementary...</td>\n",
       "      <td>negative</td>\n",
       "    </tr>\n",
       "    <tr>\n",
       "      <th>49998</th>\n",
       "      <td>I'm going to have to disagree with the previou...</td>\n",
       "      <td>negative</td>\n",
       "    </tr>\n",
       "    <tr>\n",
       "      <th>49999</th>\n",
       "      <td>No one expects the Star Trek movies to be high...</td>\n",
       "      <td>negative</td>\n",
       "    </tr>\n",
       "  </tbody>\n",
       "</table>\n",
       "<p>50000 rows × 2 columns</p>\n",
       "</div>"
      ],
      "text/plain": [
       "                                                  Review     Label\n",
       "0      One of the other reviewers has mentioned that ...  positive\n",
       "1      A wonderful little production. <br /><br />The...  positive\n",
       "2      I thought this was a wonderful way to spend ti...  positive\n",
       "3      Basically there's a family where a little boy ...  negative\n",
       "4      Petter Mattei's \"Love in the Time of Money\" is...  positive\n",
       "...                                                  ...       ...\n",
       "49995  I thought this movie did a down right good job...  positive\n",
       "49996  Bad plot, bad dialogue, bad acting, idiotic di...  negative\n",
       "49997  I am a Catholic taught in parochial elementary...  negative\n",
       "49998  I'm going to have to disagree with the previou...  negative\n",
       "49999  No one expects the Star Trek movies to be high...  negative\n",
       "\n",
       "[50000 rows x 2 columns]"
      ]
     },
     "execution_count": 144,
     "metadata": {},
     "output_type": "execute_result"
    }
   ],
   "source": [
    "movie_reviews_data = pd.read_csv('/home/verpen/Downloads/Datasets/imdb/IMDb_Moview_Reviews.zip')\n",
    "movie_reviews_data = movie_reviews_data.rename(columns={'review':'Review', \n",
    "                                                        'sentiment': 'Label'})\n",
    "movie_reviews_data"
   ]
  },
  {
   "cell_type": "code",
   "execution_count": 145,
   "id": "75ac58b4",
   "metadata": {},
   "outputs": [
    {
     "data": {
      "text/html": [
       "<div>\n",
       "<style scoped>\n",
       "    .dataframe tbody tr th:only-of-type {\n",
       "        vertical-align: middle;\n",
       "    }\n",
       "\n",
       "    .dataframe tbody tr th {\n",
       "        vertical-align: top;\n",
       "    }\n",
       "\n",
       "    .dataframe thead th {\n",
       "        text-align: right;\n",
       "    }\n",
       "</style>\n",
       "<table border=\"1\" class=\"dataframe\">\n",
       "  <thead>\n",
       "    <tr style=\"text-align: right;\">\n",
       "      <th></th>\n",
       "      <th>Review</th>\n",
       "      <th>Label</th>\n",
       "    </tr>\n",
       "  </thead>\n",
       "  <tbody>\n",
       "    <tr>\n",
       "      <th>0</th>\n",
       "      <td>One of the other reviewers has mentioned that ...</td>\n",
       "      <td>2</td>\n",
       "    </tr>\n",
       "    <tr>\n",
       "      <th>1</th>\n",
       "      <td>A wonderful little production. &lt;br /&gt;&lt;br /&gt;The...</td>\n",
       "      <td>2</td>\n",
       "    </tr>\n",
       "    <tr>\n",
       "      <th>2</th>\n",
       "      <td>I thought this was a wonderful way to spend ti...</td>\n",
       "      <td>2</td>\n",
       "    </tr>\n",
       "    <tr>\n",
       "      <th>3</th>\n",
       "      <td>Basically there's a family where a little boy ...</td>\n",
       "      <td>1</td>\n",
       "    </tr>\n",
       "    <tr>\n",
       "      <th>4</th>\n",
       "      <td>Petter Mattei's \"Love in the Time of Money\" is...</td>\n",
       "      <td>2</td>\n",
       "    </tr>\n",
       "    <tr>\n",
       "      <th>...</th>\n",
       "      <td>...</td>\n",
       "      <td>...</td>\n",
       "    </tr>\n",
       "    <tr>\n",
       "      <th>49995</th>\n",
       "      <td>I thought this movie did a down right good job...</td>\n",
       "      <td>2</td>\n",
       "    </tr>\n",
       "    <tr>\n",
       "      <th>49996</th>\n",
       "      <td>Bad plot, bad dialogue, bad acting, idiotic di...</td>\n",
       "      <td>1</td>\n",
       "    </tr>\n",
       "    <tr>\n",
       "      <th>49997</th>\n",
       "      <td>I am a Catholic taught in parochial elementary...</td>\n",
       "      <td>1</td>\n",
       "    </tr>\n",
       "    <tr>\n",
       "      <th>49998</th>\n",
       "      <td>I'm going to have to disagree with the previou...</td>\n",
       "      <td>1</td>\n",
       "    </tr>\n",
       "    <tr>\n",
       "      <th>49999</th>\n",
       "      <td>No one expects the Star Trek movies to be high...</td>\n",
       "      <td>1</td>\n",
       "    </tr>\n",
       "  </tbody>\n",
       "</table>\n",
       "<p>50000 rows × 2 columns</p>\n",
       "</div>"
      ],
      "text/plain": [
       "                                                  Review  Label\n",
       "0      One of the other reviewers has mentioned that ...      2\n",
       "1      A wonderful little production. <br /><br />The...      2\n",
       "2      I thought this was a wonderful way to spend ti...      2\n",
       "3      Basically there's a family where a little boy ...      1\n",
       "4      Petter Mattei's \"Love in the Time of Money\" is...      2\n",
       "...                                                  ...    ...\n",
       "49995  I thought this movie did a down right good job...      2\n",
       "49996  Bad plot, bad dialogue, bad acting, idiotic di...      1\n",
       "49997  I am a Catholic taught in parochial elementary...      1\n",
       "49998  I'm going to have to disagree with the previou...      1\n",
       "49999  No one expects the Star Trek movies to be high...      1\n",
       "\n",
       "[50000 rows x 2 columns]"
      ]
     },
     "execution_count": 145,
     "metadata": {},
     "output_type": "execute_result"
    }
   ],
   "source": [
    "movie_reviews_data['Label'] = movie_reviews_data['Label'].apply(lambda x: 2 if x == 'positive' else 1)\n",
    "movie_reviews_data"
   ]
  },
  {
   "cell_type": "code",
   "execution_count": 146,
   "id": "8a826722",
   "metadata": {},
   "outputs": [
    {
     "name": "stdout",
     "output_type": "stream",
     "text": [
      "Processing time: 329.92416962100106\n",
      "              precision    recall  f1-score   support\n",
      "\n",
      "           1       0.84      0.89      0.86     25000\n",
      "           2       0.89      0.82      0.85     25000\n",
      "\n",
      "    accuracy                           0.86     50000\n",
      "   macro avg       0.86      0.86      0.86     50000\n",
      "weighted avg       0.86      0.86      0.86     50000\n",
      "\n",
      "[[22335  2665]\n",
      " [ 4388 20612]]\n"
     ]
    },
    {
     "data": {
      "image/png": "[encoded data removed]",
      "text/plain": [
       "<Figure size 720x504 with 2 Axes>"
      ]
     },
     "metadata": {
      "needs_background": "light"
     },
     "output_type": "display_data"
    },
    {
     "name": "stdout",
     "output_type": "stream",
     "text": [
      "Unique: [1 2]\t\tCounts: [26723 23277]\n"
     ]
    },
    {
     "data": {
      "image/png": "[encoded data removed]",
      "text/plain": [
       "<Figure size 432x288 with 1 Axes>"
      ]
     },
     "metadata": {},
     "output_type": "display_data"
    }
   ],
   "source": [
    "predics = pipeline(svm_model, movie_reviews_data)"
   ]
  }
 ],
 "metadata": {
  "kernelspec": {
   "display_name": "Python 3 (ipykernel)",
   "language": "python",
   "name": "python3"
  },
  "language_info": {
   "codemirror_mode": {
    "name": "ipython",
    "version": 3
   },
   "file_extension": ".py",
   "mimetype": "text/x-python",
   "name": "python",
   "nbconvert_exporter": "python",
   "pygments_lexer": "ipython3",
   "version": "3.9.7"
  }
 },
 "nbformat": 4,
 "nbformat_minor": 5
}
